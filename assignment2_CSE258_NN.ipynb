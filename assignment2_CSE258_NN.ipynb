{
 "cells": [
  {
   "cell_type": "code",
   "execution_count": 73,
   "metadata": {},
   "outputs": [],
   "source": [
    "import os\n",
    "import time\n",
    "import numpy as np\n",
    "import matplotlib.pyplot as plt\n",
    "from sklearn.model_selection import train_test_split\n",
    "from collections import defaultdict\n",
    "import torch\n",
    "from torch import nn\n",
    "from torch.nn import functional as F\n",
    "import torch.utils.data as td\n",
    "import torchvision as tv\n",
    "import pandas as pd"
   ]
  },
  {
   "cell_type": "code",
   "execution_count": 74,
   "metadata": {},
   "outputs": [
    {
     "name": "stdout",
     "output_type": "stream",
     "text": [
      "cuda\n"
     ]
    }
   ],
   "source": [
    "device = 'cuda' if torch.cuda.is_available() else 'cpu' \n",
    "print(device)"
   ]
  },
  {
   "cell_type": "markdown",
   "metadata": {},
   "source": [
    "# 1. Load data"
   ]
  },
  {
   "cell_type": "code",
   "execution_count": 3,
   "metadata": {},
   "outputs": [],
   "source": [
    "# alldata = np.load('processed_endomondoHR_proper_interpolate.npy', allow_pickle=True)"
   ]
  },
  {
   "cell_type": "code",
   "execution_count": 4,
   "metadata": {},
   "outputs": [],
   "source": [
    "alldata = []\n",
    "for i in range(10 + 1):\n",
    "    alldata.extend(np.load('subDataset/processedData{}.npy'.format(i), allow_pickle=True))"
   ]
  },
  {
   "cell_type": "code",
   "execution_count": 5,
   "metadata": {},
   "outputs": [
    {
     "data": {
      "text/plain": [
       "102992"
      ]
     },
     "execution_count": 5,
     "metadata": {},
     "output_type": "execute_result"
    }
   ],
   "source": [
    "len(alldata)"
   ]
  },
  {
   "cell_type": "markdown",
   "metadata": {},
   "source": [
    "# 2. data analysis"
   ]
  },
  {
   "cell_type": "code",
   "execution_count": 6,
   "metadata": {},
   "outputs": [],
   "source": [
    "countType = defaultdict(int)"
   ]
  },
  {
   "cell_type": "code",
   "execution_count": 7,
   "metadata": {},
   "outputs": [],
   "source": [
    "for sample in alldata:\n",
    "    countType[sample['sport']] += 1"
   ]
  },
  {
   "cell_type": "code",
   "execution_count": 8,
   "metadata": {},
   "outputs": [],
   "source": [
    "countType = sorted(countType.items(), key = lambda x: -x[1])"
   ]
  },
  {
   "cell_type": "code",
   "execution_count": 9,
   "metadata": {
    "scrolled": false
   },
   "outputs": [],
   "source": [
    "name = []\n",
    "counts = []\n",
    "for k,v in countType:\n",
    "    name.append(k)\n",
    "    counts.append(v)"
   ]
  },
  {
   "cell_type": "code",
   "execution_count": 10,
   "metadata": {},
   "outputs": [
    {
     "data": {
      "text/plain": [
       "[('bike', 48493),\n",
       " ('run', 39201),\n",
       " ('mountain bike', 7711),\n",
       " ('bike (transport)', 3234),\n",
       " ('indoor cycling', 1320),\n",
       " ('cross-country skiing', 630),\n",
       " ('walk', 618),\n",
       " ('orienteering', 553),\n",
       " ('core stability training', 258),\n",
       " ('hiking', 193),\n",
       " ('fitness walking', 186),\n",
       " ('roller skiing', 158),\n",
       " ('skate', 124),\n",
       " ('kayaking', 60),\n",
       " ('circuit training', 53),\n",
       " ('rowing', 46),\n",
       " ('weight training', 31),\n",
       " ('downhill skiing', 24),\n",
       " ('soccer', 21),\n",
       " ('snowshoeing', 15),\n",
       " ('golf', 11),\n",
       " ('horseback riding', 7),\n",
       " ('tennis', 5),\n",
       " ('treadmill running', 5),\n",
       " ('badminton', 5),\n",
       " ('climbing', 5),\n",
       " ('basketball', 4),\n",
       " ('swimming', 4),\n",
       " ('table tennis', 3),\n",
       " ('rugby', 3),\n",
       " ('snowboarding', 2),\n",
       " ('elliptical', 2),\n",
       " ('gymnastics', 1),\n",
       " ('aerobics', 1),\n",
       " ('sailing', 1),\n",
       " ('kite surfing', 1),\n",
       " ('squash', 1),\n",
       " ('stair climing', 1),\n",
       " ('martial arts', 1)]"
      ]
     },
     "execution_count": 10,
     "metadata": {},
     "output_type": "execute_result"
    }
   ],
   "source": [
    "countType"
   ]
  },
  {
   "cell_type": "code",
   "execution_count": 11,
   "metadata": {},
   "outputs": [
    {
     "data": {
      "image/png": "[encoded data removed]",
      "text/plain": [
       "<Figure size 720x360 with 1 Axes>"
      ]
     },
     "metadata": {
      "needs_background": "light"
     },
     "output_type": "display_data"
    }
   ],
   "source": [
    "numOfSport = 5\n",
    "plt.figure(figsize = (10,5))\n",
    "plt.bar(name[:numOfSport], counts[:numOfSport])\n",
    "# plt.title(\"The MSE  vs different lambda\", fontsize=18)\n",
    "# plt.xlabel(\"lambda\", fontsize=18)\n",
    "# plt.ylabel(\"MSE\", fontsize=18)\n",
    "# plt.legend()\n",
    "# plt.tick_params(labelsize=15)\n",
    "plt.show()\n",
    "# bestIndex = np.argmin(MSEs_total)\n",
    "# print('we can see the smallest MSE is {:.4f} with lambda {:.5f}.'\\\n",
    "#       .format(MSEs_total[bestIndex], lambs_total[bestIndex]))"
   ]
  },
  {
   "cell_type": "code",
   "execution_count": 12,
   "metadata": {},
   "outputs": [],
   "source": [
    "# np.save('processedData.npy', data, allow_pickle=True)"
   ]
  },
  {
   "cell_type": "code",
   "execution_count": 13,
   "metadata": {},
   "outputs": [],
   "source": [
    "# for sportType in name:\n",
    "#     print(sportType)\n",
    "#     with open('subDataset/'+sportType+'DataSet.json','w') as outfile:\n",
    "#         for sample in data:\n",
    "#             if sample['sport'] == sportType:   \n",
    "# #                 print(type(sample))\n",
    "#                 json.dump(sample,outfile,ensure_ascii=False)\n",
    "#                 outfile.write('\\n')\n"
   ]
  },
  {
   "cell_type": "markdown",
   "metadata": {},
   "source": [
    "# 3. class and feature selection"
   ]
  },
  {
   "cell_type": "code",
   "execution_count": 14,
   "metadata": {},
   "outputs": [],
   "source": [
    "UsedClass = name[:5]\n",
    "# weight = sum(counts[:5])/ torch.tensor(counts[:5]).float()"
   ]
  },
  {
   "cell_type": "code",
   "execution_count": 16,
   "metadata": {},
   "outputs": [
    {
     "data": {
      "text/plain": [
       "['bike', 'run', 'mountain bike', 'bike (transport)', 'indoor cycling']"
      ]
     },
     "execution_count": 16,
     "metadata": {},
     "output_type": "execute_result"
    }
   ],
   "source": [
    "UsedClass"
   ]
  },
  {
   "cell_type": "code",
   "execution_count": 76,
   "metadata": {},
   "outputs": [],
   "source": [
    "labelIndex = dict()\n",
    "for i, sport in enumerate(UsedClass):\n",
    "    labelIndex[sport] = i\n",
    "def feature(sample, numOfFre = 5):\n",
    "    featureList = []\n",
    "    featureList.append(labelIndex[sample['sport']])\n",
    "    featureList.extend([1,0] if sample['gender'] == 'male' else [0,1])\n",
    "    featureList.extend(sample['heart_rate'][::numOfFre])\n",
    "    featureList.extend(sample['longitude'][::numOfFre])\n",
    "    featureList.extend(sample['latitude'][::numOfFre])\n",
    "    featureList.extend(sample['altitude'][::numOfFre])\n",
    "    featureList.extend(sample['distance'][::numOfFre])\n",
    "    featureList.extend(sample['derived_speed'][::numOfFre])    \n",
    "    return featureList"
   ]
  },
  {
   "cell_type": "code",
   "execution_count": 77,
   "metadata": {},
   "outputs": [],
   "source": [
    "data = np.array([feature(sample) for sample in alldata if sample['sport'] in UsedClass], dtype= 'float32')"
   ]
  },
  {
   "cell_type": "code",
   "execution_count": 78,
   "metadata": {},
   "outputs": [],
   "source": [
    "train_data, val_test_data = train_test_split(data, test_size=1/5)\n",
    "val_data, test_data = train_test_split(val_test_data, test_size=1/2)"
   ]
  },
  {
   "cell_type": "code",
   "execution_count": 79,
   "metadata": {},
   "outputs": [],
   "source": [
    "XTrain = train_data[:,1:]\n",
    "YTrain = train_data[:,0]\n",
    "\n",
    "XTest = torch.from_numpy(test_data[:,1:]).cuda()\n",
    "YTest = torch.from_numpy(test_data[:,0])\n",
    "\n",
    "XVal = val_data[:,1:]\n",
    "YVal = val_data[:,0]"
   ]
  },
  {
   "cell_type": "code",
   "execution_count": 80,
   "metadata": {},
   "outputs": [],
   "source": [
    "class sportDataset(td.Dataset):\n",
    "    def __init__(self, X, Y): # initialize\n",
    "        super(sportDataset, self).__init__() # initialize the superclass\n",
    "        self.X = X.astype('float32')\n",
    "        self.Y = Y.astype('int64')\n",
    "    def __len__(self):\n",
    "        return len(self.X) # return the size of dataset\n",
    "    def __getitem__(self, idx):\n",
    "        x = self.X[idx] # do transformation\n",
    "        d = self.Y[idx] # get label\n",
    "        return x, d # return data and label\n",
    "    def number_of_classes(self):\n",
    "        return self.Y.max() + 1 # return the number of classes"
   ]
  },
  {
   "cell_type": "code",
   "execution_count": 81,
   "metadata": {},
   "outputs": [
    {
     "data": {
      "text/plain": [
       "800"
      ]
     },
     "execution_count": 81,
     "metadata": {},
     "output_type": "execute_result"
    }
   ],
   "source": [
    "train_set = sportDataset(XTrain, YTrain)\n",
    "train_loader = td.DataLoader(train_set, batch_size = 100, shuffle = True, pin_memory = True)\n",
    "len(train_loader)"
   ]
  },
  {
   "cell_type": "code",
   "execution_count": 82,
   "metadata": {},
   "outputs": [
    {
     "data": {
      "text/plain": [
       "100"
      ]
     },
     "execution_count": 82,
     "metadata": {},
     "output_type": "execute_result"
    }
   ],
   "source": [
    "val_set = sportDataset(XVal, YVal)\n",
    "val_loader = td.DataLoader(val_set, batch_size = 100, shuffle = False, pin_memory = True)\n",
    "len(val_loader)"
   ]
  },
  {
   "cell_type": "code",
   "execution_count": 83,
   "metadata": {},
   "outputs": [],
   "source": [
    "# test_set = sportDataset(XTest, YTest)\n",
    "# test_loader = td.DataLoader(test_set, batch_size = 100, shuffle = False, pin_memory = True)\n",
    "# len(test_loader)"
   ]
  },
  {
   "cell_type": "markdown",
   "metadata": {},
   "source": [
    "# 4. train model"
   ]
  },
  {
   "cell_type": "code",
   "execution_count": 84,
   "metadata": {},
   "outputs": [],
   "source": [
    "# class NNModel(nn.Module):\n",
    "\n",
    "#     def __init__(self, input_size, output_size, layers, p=0.5, device = 'cuda'):\n",
    "#         super().__init__()\n",
    "#         self.device = device\n",
    "#         self.batch_norm_num = nn.BatchNorm1d(input_size)\n",
    "\n",
    "#         all_layers = []\n",
    "\n",
    "#         for i in layers:\n",
    "#             all_layers.append(nn.Linear(input_size, i))\n",
    "#             all_layers.append(nn.ReLU(inplace=True))\n",
    "#             all_layers.append(nn.BatchNorm1d(i))\n",
    "#             all_layers.append(nn.Dropout(p))\n",
    "#             input_size = i\n",
    "\n",
    "#         all_layers.append(nn.Linear(layers[-1], output_size))\n",
    "\n",
    "#         self.layers = nn.Sequential(*all_layers)\n",
    "        \n",
    "\n",
    "#     def forward(self, x):\n",
    "#         x = self.layers(x)\n",
    "#         return x\n",
    "class NNModel(nn.Module):\n",
    "\n",
    "    def __init__(self, input_size, output_size, layers, p=0.5, device = 'cuda'):\n",
    "        super().__init__()\n",
    "        self.device = device\n",
    "\n",
    "        all_layers = []\n",
    "        input_size = input_size-2\n",
    "        for i in layers:\n",
    "            all_layers.append(nn.Linear(input_size, i))\n",
    "            all_layers.append(nn.ReLU(inplace=True))\n",
    "            all_layers.append(nn.BatchNorm1d(i))\n",
    "            all_layers.append(nn.Dropout(p))\n",
    "            input_size = i\n",
    "\n",
    "        self.classifier_layers = nn.Linear(layers[-1]+2, output_size)\n",
    "\n",
    "        self.layers = nn.Sequential(*all_layers)\n",
    "        \n",
    "\n",
    "    def forward(self, x):\n",
    "        y = self.layers(x[:,2:])\n",
    "        y = self.classifier_layers(torch.cat((y, x[:,0:2]),1))\n",
    "        return y"
   ]
  },
  {
   "cell_type": "code",
   "execution_count": 85,
   "metadata": {},
   "outputs": [],
   "source": [
    "def backprop_deep(net, T, gamma=.001, rho=.9, weight = None, output_dir = None): \n",
    "    if weight is not None:\n",
    "        weight = weight.cuda()    \n",
    "    criterion = nn.CrossEntropyLoss(weight)\n",
    "    optimizer = torch.optim.SGD(net.parameters(), lr=gamma, momentum=rho)\n",
    "    train_losses = []\n",
    "    train_accs = []\n",
    "    val_losses = []\n",
    "    val_accs = []\n",
    "    minVal_loss = float('inf')\n",
    "    minValCount = 0\n",
    "    \n",
    "    for epoch in range(T): \n",
    "        running_loss = 0.0 \n",
    "        train_loss = 0.0\n",
    "        train_correct = 0.0\n",
    "        net.train()\n",
    "        count = 0\n",
    "        for inputs, labels in train_loader:\n",
    "            inputs, labels = inputs.to(net.device), labels.to(net.device)\n",
    "            # Initialize the gradients to zero\n",
    "            optimizer.zero_grad()\n",
    "            # Forward propagation\n",
    "            outputs = net(inputs)\n",
    "            # Error evaluation\n",
    "            loss = criterion(outputs, labels)\n",
    "            # Back propagation\n",
    "            loss.backward()\n",
    "            # Parameter update\n",
    "            optimizer.step()\n",
    "            with torch.no_grad():\n",
    "                running_loss += loss.item() \n",
    "                train_loss += loss.item()\n",
    "                _, y_pred = outputs.max(-1)\n",
    "                correct = sum(y_pred == labels).item()\n",
    "                train_correct += correct\n",
    "            count += len(labels)\n",
    "            if (count // len(labels)) % 1000 == 0:\n",
    "                print('Iteration %d, count %d, running loss: %.3f' %\n",
    "                      (epoch + 1, count, running_loss))\n",
    "                running_loss = 0.0\n",
    "        train_losses.append(train_loss/8)\n",
    "        train_accs.append(train_correct/count*100)\n",
    "        print('Iteration %d, train loss: %.3f train acc : %.3f' % \\\n",
    "                  (epoch + 1, train_loss/8, train_correct/count*100))               \n",
    "                \n",
    "        ## validation   \n",
    "        val_loss = 0\n",
    "        val_correct = 0.0\n",
    "        val_count = 0.0\n",
    "        net.eval()\n",
    "        with torch.no_grad():\n",
    "            for inputs, labels in val_loader:\n",
    "                inputs, labels = inputs.to(net.device), labels.to(net.device)\n",
    "                # Initialize the gradients to zero\n",
    "                optimizer.zero_grad()\n",
    "                # Forward propagation\n",
    "                outputs = net(inputs)\n",
    "                # Error evaluation\n",
    "                loss = criterion(outputs, labels)\n",
    "                val_loss += loss.item() \n",
    "                _, y_pred = outputs.max(-1)\n",
    "                correct = sum(y_pred == labels).item()\n",
    "                val_correct += correct\n",
    "                val_count += len(labels)\n",
    "                \n",
    "        print('Iteration %d, validation loss: %.3f validation acc: %.3f' % \\\n",
    "                  (epoch + 1, val_loss, val_correct/val_count*100))\n",
    "        minValCount += 1\n",
    "        if val_loss < minVal_loss:\n",
    "            minVal_loss = val_loss\n",
    "            minValCount = 0\n",
    "            \n",
    "            if output_dir is None:\n",
    "                if weight is not None:\n",
    "                    output_dir = 'checkpoint/NN/weight/experiment_nn{}'.format(time.time())\n",
    "                else:\n",
    "                    output_dir = 'checkpoint/NN/unweighted/experiment_nn{}'.format(time.time())\n",
    "            os.makedirs(output_dir, exist_ok=True)\n",
    "            checkpoint_path = os.path.join(output_dir, \"checkpoint.pth.tar\")\n",
    "            config_path = os.path.join(output_dir, \"config.txt\")\n",
    "            state_dict = {'Net': net.state_dict(), 'Optimizer': optimizer.state_dict()}\n",
    "            torch.save(state_dict, checkpoint_path)\n",
    "            with open(config_path, 'w') as f:\n",
    "                print(net, file=f)\n",
    "            \n",
    "            \n",
    "        val_losses.append(val_loss)\n",
    "        val_accs.append(val_correct/val_count*100)\n",
    "        if minValCount > 20:\n",
    "            break\n",
    "    checkpoint = torch.load(checkpoint_path, map_location=net.device)\n",
    "    net.load_state_dict(checkpoint['Net'])\n",
    "    print(\"Finish training for {} epochs\".format(T))\n",
    "    return train_losses, val_losses, train_accs, val_accs"
   ]
  },
  {
   "cell_type": "code",
   "execution_count": 86,
   "metadata": {
    "scrolled": false
   },
   "outputs": [],
   "source": [
    "nnmodel = NNModel(len(XTrain[0]), len(UsedClass), [400, 300, 200, 20]).to(device)\n",
    "# nnmodel"
   ]
  },
  {
   "cell_type": "code",
   "execution_count": 87,
   "metadata": {
    "scrolled": false
   },
   "outputs": [
    {
     "name": "stdout",
     "output_type": "stream",
     "text": [
      "Iteration 1, train loss: 88.891 train acc : 72.480\n",
      "Iteration 1, validation loss: 70.239 validation acc: 80.792\n",
      "Iteration 2, train loss: 69.198 train acc : 79.195\n",
      "Iteration 2, validation loss: 61.450 validation acc: 81.012\n",
      "Iteration 3, train loss: 64.474 train acc : 80.289\n",
      "Iteration 3, validation loss: 62.925 validation acc: 80.162\n",
      "Iteration 4, train loss: 61.607 train acc : 80.961\n",
      "Iteration 4, validation loss: 54.566 validation acc: 82.263\n",
      "Iteration 5, train loss: 60.037 train acc : 81.210\n",
      "Iteration 5, validation loss: 55.342 validation acc: 82.153\n",
      "Iteration 6, train loss: 58.678 train acc : 81.669\n",
      "Iteration 6, validation loss: 60.762 validation acc: 81.993\n",
      "Iteration 7, train loss: 57.363 train acc : 81.904\n",
      "Iteration 7, validation loss: 54.903 validation acc: 82.963\n",
      "Iteration 8, train loss: 56.659 train acc : 82.031\n",
      "Iteration 8, validation loss: 54.338 validation acc: 82.323\n",
      "Iteration 9, train loss: 56.021 train acc : 82.273\n",
      "Iteration 9, validation loss: 59.039 validation acc: 82.413\n",
      "Iteration 10, train loss: 55.225 train acc : 82.416\n",
      "Iteration 10, validation loss: 57.632 validation acc: 82.273\n",
      "Iteration 11, train loss: 54.832 train acc : 82.438\n",
      "Iteration 11, validation loss: 52.363 validation acc: 83.413\n",
      "Iteration 12, train loss: 53.865 train acc : 82.858\n",
      "Iteration 12, validation loss: 54.965 validation acc: 82.163\n",
      "Iteration 13, train loss: 53.074 train acc : 83.092\n",
      "Iteration 13, validation loss: 53.083 validation acc: 82.903\n",
      "Iteration 14, train loss: 53.067 train acc : 83.109\n",
      "Iteration 14, validation loss: 51.226 validation acc: 83.103\n",
      "Iteration 15, train loss: 52.766 train acc : 83.113\n",
      "Iteration 15, validation loss: 52.808 validation acc: 82.963\n",
      "Iteration 16, train loss: 52.551 train acc : 83.176\n",
      "Iteration 16, validation loss: 49.994 validation acc: 83.433\n",
      "Iteration 17, train loss: 51.635 train acc : 83.407\n",
      "Iteration 17, validation loss: 51.611 validation acc: 83.123\n",
      "Iteration 18, train loss: 51.567 train acc : 83.337\n",
      "Iteration 18, validation loss: 48.955 validation acc: 84.394\n",
      "Iteration 19, train loss: 51.392 train acc : 83.454\n",
      "Iteration 19, validation loss: 47.479 validation acc: 84.584\n",
      "Iteration 20, train loss: 50.892 train acc : 83.606\n",
      "Iteration 20, validation loss: 48.128 validation acc: 84.114\n",
      "Iteration 21, train loss: 50.516 train acc : 83.771\n",
      "Iteration 21, validation loss: 47.185 validation acc: 84.974\n",
      "Iteration 22, train loss: 50.363 train acc : 83.693\n",
      "Iteration 22, validation loss: 50.556 validation acc: 83.593\n",
      "Iteration 23, train loss: 50.100 train acc : 83.925\n",
      "Iteration 23, validation loss: 50.680 validation acc: 84.004\n",
      "Iteration 24, train loss: 50.136 train acc : 83.690\n",
      "Iteration 24, validation loss: 45.604 validation acc: 84.844\n",
      "Iteration 25, train loss: 49.860 train acc : 83.888\n",
      "Iteration 25, validation loss: 47.898 validation acc: 84.184\n",
      "Iteration 26, train loss: 49.072 train acc : 83.956\n",
      "Iteration 26, validation loss: 49.654 validation acc: 83.824\n",
      "Iteration 27, train loss: 49.107 train acc : 84.107\n",
      "Iteration 27, validation loss: 46.387 validation acc: 84.274\n",
      "Iteration 28, train loss: 49.122 train acc : 83.988\n",
      "Iteration 28, validation loss: 45.402 validation acc: 84.634\n",
      "Iteration 29, train loss: 48.831 train acc : 84.190\n",
      "Iteration 29, validation loss: 72.626 validation acc: 77.971\n",
      "Iteration 30, train loss: 48.370 train acc : 84.216\n",
      "Iteration 30, validation loss: 48.759 validation acc: 83.553\n",
      "Iteration 31, train loss: 48.377 train acc : 84.304\n",
      "Iteration 31, validation loss: 58.351 validation acc: 83.053\n",
      "Iteration 32, train loss: 48.137 train acc : 84.246\n",
      "Iteration 32, validation loss: 43.814 validation acc: 85.444\n",
      "Iteration 33, train loss: 48.182 train acc : 84.307\n",
      "Iteration 33, validation loss: 51.684 validation acc: 83.303\n",
      "Iteration 34, train loss: 47.711 train acc : 84.311\n",
      "Iteration 34, validation loss: 47.735 validation acc: 84.404\n",
      "Iteration 35, train loss: 47.785 train acc : 84.396\n",
      "Iteration 35, validation loss: 45.387 validation acc: 84.464\n",
      "Iteration 36, train loss: 47.495 train acc : 84.337\n",
      "Iteration 36, validation loss: 44.419 validation acc: 85.084\n",
      "Iteration 37, train loss: 47.050 train acc : 84.512\n",
      "Iteration 37, validation loss: 53.400 validation acc: 83.633\n",
      "Iteration 38, train loss: 47.020 train acc : 84.526\n",
      "Iteration 38, validation loss: 41.568 validation acc: 85.954\n",
      "Iteration 39, train loss: 46.989 train acc : 84.586\n",
      "Iteration 39, validation loss: 58.202 validation acc: 83.733\n",
      "Iteration 40, train loss: 46.712 train acc : 84.604\n",
      "Iteration 40, validation loss: 53.356 validation acc: 83.443\n",
      "Iteration 41, train loss: 46.496 train acc : 84.669\n",
      "Iteration 41, validation loss: 84.467 validation acc: 66.517\n",
      "Iteration 42, train loss: 46.558 train acc : 84.636\n",
      "Iteration 42, validation loss: 53.615 validation acc: 84.274\n",
      "Iteration 43, train loss: 46.494 train acc : 84.614\n",
      "Iteration 43, validation loss: 43.700 validation acc: 85.584\n",
      "Iteration 44, train loss: 46.544 train acc : 84.606\n",
      "Iteration 44, validation loss: 66.696 validation acc: 83.063\n",
      "Iteration 45, train loss: 46.019 train acc : 84.785\n",
      "Iteration 45, validation loss: 45.154 validation acc: 84.934\n",
      "Iteration 46, train loss: 46.177 train acc : 84.710\n",
      "Iteration 46, validation loss: 43.488 validation acc: 85.294\n",
      "Iteration 47, train loss: 46.213 train acc : 84.742\n",
      "Iteration 47, validation loss: 45.115 validation acc: 85.104\n",
      "Iteration 48, train loss: 45.958 train acc : 84.805\n",
      "Iteration 48, validation loss: 42.984 validation acc: 85.314\n",
      "Iteration 49, train loss: 45.987 train acc : 84.933\n",
      "Iteration 49, validation loss: 46.172 validation acc: 84.544\n",
      "Iteration 50, train loss: 45.992 train acc : 84.934\n",
      "Iteration 50, validation loss: 41.135 validation acc: 86.004\n",
      "Iteration 51, train loss: 46.193 train acc : 84.797\n",
      "Iteration 51, validation loss: 47.444 validation acc: 83.703\n",
      "Iteration 52, train loss: 45.388 train acc : 84.885\n",
      "Iteration 52, validation loss: 40.623 validation acc: 86.164\n",
      "Iteration 53, train loss: 45.850 train acc : 84.944\n",
      "Iteration 53, validation loss: 61.437 validation acc: 83.493\n",
      "Iteration 54, train loss: 45.527 train acc : 84.984\n",
      "Iteration 54, validation loss: 43.536 validation acc: 85.254\n",
      "Iteration 55, train loss: 45.404 train acc : 84.899\n",
      "Iteration 55, validation loss: 52.645 validation acc: 83.323\n",
      "Iteration 56, train loss: 45.356 train acc : 84.963\n",
      "Iteration 56, validation loss: 42.285 validation acc: 85.814\n",
      "Iteration 57, train loss: 45.129 train acc : 85.181\n",
      "Iteration 57, validation loss: 39.791 validation acc: 86.184\n",
      "Iteration 58, train loss: 44.913 train acc : 85.121\n",
      "Iteration 58, validation loss: 52.288 validation acc: 84.054\n",
      "Iteration 59, train loss: 44.875 train acc : 85.090\n",
      "Iteration 59, validation loss: 50.599 validation acc: 84.224\n",
      "Iteration 60, train loss: 44.726 train acc : 85.205\n",
      "Iteration 60, validation loss: 43.491 validation acc: 85.694\n",
      "Iteration 61, train loss: 45.028 train acc : 85.079\n",
      "Iteration 61, validation loss: 46.701 validation acc: 84.974\n",
      "Iteration 62, train loss: 44.851 train acc : 85.038\n",
      "Iteration 62, validation loss: 71.522 validation acc: 75.300\n",
      "Iteration 63, train loss: 44.653 train acc : 85.324\n",
      "Iteration 63, validation loss: 78.388 validation acc: 72.579\n",
      "Iteration 64, train loss: 44.479 train acc : 85.181\n",
      "Iteration 64, validation loss: 52.605 validation acc: 85.044\n",
      "Iteration 65, train loss: 44.943 train acc : 85.028\n",
      "Iteration 65, validation loss: 47.644 validation acc: 83.974\n",
      "Iteration 66, train loss: 44.813 train acc : 85.088\n",
      "Iteration 66, validation loss: 45.168 validation acc: 84.694\n",
      "Iteration 67, train loss: 44.700 train acc : 85.165\n",
      "Iteration 67, validation loss: 43.013 validation acc: 84.984\n",
      "Iteration 68, train loss: 44.157 train acc : 85.264\n",
      "Iteration 68, validation loss: 39.529 validation acc: 86.164\n",
      "Iteration 69, train loss: 44.390 train acc : 85.238\n",
      "Iteration 69, validation loss: 39.500 validation acc: 86.255\n",
      "Iteration 70, train loss: 44.280 train acc : 85.240\n",
      "Iteration 70, validation loss: 47.026 validation acc: 84.174\n",
      "Iteration 71, train loss: 44.021 train acc : 85.394\n",
      "Iteration 71, validation loss: 44.873 validation acc: 85.004\n",
      "Iteration 72, train loss: 44.566 train acc : 85.121\n",
      "Iteration 72, validation loss: 48.081 validation acc: 84.244\n",
      "Iteration 73, train loss: 44.332 train acc : 85.129\n",
      "Iteration 73, validation loss: 51.230 validation acc: 84.214\n"
     ]
    },
    {
     "name": "stdout",
     "output_type": "stream",
     "text": [
      "Iteration 74, train loss: 44.440 train acc : 85.334\n",
      "Iteration 74, validation loss: 39.992 validation acc: 86.255\n",
      "Iteration 75, train loss: 44.160 train acc : 85.321\n",
      "Iteration 75, validation loss: 42.201 validation acc: 85.434\n",
      "Iteration 76, train loss: 44.070 train acc : 85.351\n",
      "Iteration 76, validation loss: 39.395 validation acc: 86.214\n",
      "Iteration 77, train loss: 43.723 train acc : 85.409\n",
      "Iteration 77, validation loss: 38.949 validation acc: 86.275\n",
      "Iteration 78, train loss: 43.624 train acc : 85.426\n",
      "Iteration 78, validation loss: 42.632 validation acc: 85.784\n",
      "Iteration 79, train loss: 43.701 train acc : 85.485\n",
      "Iteration 79, validation loss: 47.357 validation acc: 84.914\n",
      "Iteration 80, train loss: 43.648 train acc : 85.381\n",
      "Iteration 80, validation loss: 40.215 validation acc: 86.154\n",
      "Iteration 81, train loss: 43.514 train acc : 85.411\n",
      "Iteration 81, validation loss: 75.919 validation acc: 74.720\n",
      "Iteration 82, train loss: 43.614 train acc : 85.429\n",
      "Iteration 82, validation loss: 47.500 validation acc: 84.124\n",
      "Iteration 83, train loss: 43.576 train acc : 85.469\n",
      "Iteration 83, validation loss: 38.868 validation acc: 86.545\n",
      "Iteration 84, train loss: 43.408 train acc : 85.401\n",
      "Iteration 84, validation loss: 41.630 validation acc: 85.384\n",
      "Iteration 85, train loss: 43.418 train acc : 85.468\n",
      "Iteration 85, validation loss: 37.811 validation acc: 86.915\n",
      "Iteration 86, train loss: 43.131 train acc : 85.539\n",
      "Iteration 86, validation loss: 39.182 validation acc: 86.325\n",
      "Iteration 87, train loss: 43.241 train acc : 85.490\n",
      "Iteration 87, validation loss: 38.757 validation acc: 86.595\n",
      "Iteration 88, train loss: 43.277 train acc : 85.465\n",
      "Iteration 88, validation loss: 38.646 validation acc: 86.435\n",
      "Iteration 89, train loss: 43.562 train acc : 85.512\n",
      "Iteration 89, validation loss: 38.283 validation acc: 86.465\n",
      "Iteration 90, train loss: 43.136 train acc : 85.594\n",
      "Iteration 90, validation loss: 38.309 validation acc: 86.725\n",
      "Iteration 91, train loss: 43.195 train acc : 85.535\n",
      "Iteration 91, validation loss: 59.504 validation acc: 82.963\n",
      "Iteration 92, train loss: 42.993 train acc : 85.572\n",
      "Iteration 92, validation loss: 40.499 validation acc: 86.084\n",
      "Iteration 93, train loss: 42.717 train acc : 85.698\n",
      "Iteration 93, validation loss: 38.412 validation acc: 86.425\n",
      "Iteration 94, train loss: 42.758 train acc : 85.625\n",
      "Iteration 94, validation loss: 92.688 validation acc: 53.431\n",
      "Iteration 95, train loss: 43.206 train acc : 85.503\n",
      "Iteration 95, validation loss: 45.368 validation acc: 84.324\n",
      "Iteration 96, train loss: 42.931 train acc : 85.649\n",
      "Iteration 96, validation loss: 64.102 validation acc: 79.852\n",
      "Iteration 97, train loss: 43.160 train acc : 85.540\n",
      "Iteration 97, validation loss: 49.069 validation acc: 84.874\n",
      "Iteration 98, train loss: 42.803 train acc : 85.742\n",
      "Iteration 98, validation loss: 60.595 validation acc: 80.752\n",
      "Iteration 99, train loss: 43.079 train acc : 85.503\n",
      "Iteration 99, validation loss: 46.386 validation acc: 84.784\n",
      "Iteration 100, train loss: 42.982 train acc : 85.618\n",
      "Iteration 100, validation loss: 54.982 validation acc: 83.653\n",
      "Iteration 101, train loss: 42.873 train acc : 85.660\n",
      "Iteration 101, validation loss: 47.220 validation acc: 84.404\n",
      "Iteration 102, train loss: 42.465 train acc : 85.665\n",
      "Iteration 102, validation loss: 49.873 validation acc: 85.004\n",
      "Iteration 103, train loss: 42.682 train acc : 85.662\n",
      "Iteration 103, validation loss: 44.626 validation acc: 85.214\n",
      "Iteration 104, train loss: 42.426 train acc : 85.850\n",
      "Iteration 104, validation loss: 60.536 validation acc: 83.123\n",
      "Iteration 105, train loss: 42.462 train acc : 85.755\n",
      "Iteration 105, validation loss: 46.914 validation acc: 84.504\n",
      "Iteration 106, train loss: 42.578 train acc : 85.769\n",
      "Iteration 106, validation loss: 42.132 validation acc: 85.454\n",
      "Finish training for 500 epochs\n"
     ]
    }
   ],
   "source": [
    "epochs = 500\n",
    "train_losses, val_losses, train_accs, val_accs = backprop_deep(nnmodel, T=epochs )"
   ]
  },
  {
   "cell_type": "code",
   "execution_count": 88,
   "metadata": {},
   "outputs": [
    {
     "data": {
      "text/plain": [
       "<matplotlib.legend.Legend at 0x7f3e82fdec50>"
      ]
     },
     "execution_count": 88,
     "metadata": {},
     "output_type": "execute_result"
    },
    {
     "data": {
      "image/png": "[encoded data removed]",
      "text/plain": [
       "<Figure size 1296x432 with 2 Axes>"
      ]
     },
     "metadata": {
      "needs_background": "light"
     },
     "output_type": "display_data"
    }
   ],
   "source": [
    "final_epochs = len(train_losses)\n",
    "fig, axes = plt.subplots(ncols=2, figsize=(18, 6))\n",
    "\n",
    "axes[0].plot(range(final_epochs), train_losses, label = 'train loss')\n",
    "axes[0].plot(range(final_epochs), val_losses, label = 'val loss')\n",
    "axes[0].set_xlabel('Epoch') \n",
    "axes[0].set_ylabel('Loss')\n",
    "axes[0].legend()\n",
    "\n",
    "axes[1].plot(range(final_epochs), train_accs, label = 'train acc')\n",
    "axes[1].plot(range(final_epochs), val_accs, label = 'val acc')\n",
    "axes[1].set_xlabel('Epoch') \n",
    "axes[1].set_ylabel('Acc')\n",
    "axes[1].legend()"
   ]
  },
  {
   "cell_type": "markdown",
   "metadata": {},
   "source": [
    "# 5. test model"
   ]
  },
  {
   "cell_type": "code",
   "execution_count": 89,
   "metadata": {},
   "outputs": [],
   "source": [
    "from sklearn.metrics import classification_report, confusion_matrix, accuracy_score\n",
    "def testModel(xtest, ytest, net): \n",
    "    net.eval()\n",
    "    with torch.no_grad():\n",
    "        outputs = net(xtest).cpu()\n",
    "    y_val = np.argmax(outputs, axis=1)   \n",
    "    print(confusion_matrix(ytest,y_val))\n",
    "    print(classification_report(ytest,y_val))\n",
    "    print(accuracy_score(ytest, y_val))\n",
    "# def testModel(xtest, ytest, net): \n",
    "#     net.eval()\n",
    "#     with torch.no_grad():\n",
    "#         outputs = net(xtest)\n",
    "#     _, y_val = outputs.max(-1)\n",
    "#     correct = sum(y_val == ytest).item()\n",
    "#     acc =  correct / len(y_val) * 100\n",
    "#     return acc, correct"
   ]
  },
  {
   "cell_type": "code",
   "execution_count": 90,
   "metadata": {},
   "outputs": [
    {
     "name": "stdout",
     "output_type": "stream",
     "text": [
      "[[4585  127  120    0    0]\n",
      " [  72 3797    5    0    0]\n",
      " [ 413  144  271    0    0]\n",
      " [ 327    2    7    0    0]\n",
      " [ 116   10    0    0    0]]\n",
      "              precision    recall  f1-score   support\n",
      "\n",
      "         0.0       0.83      0.95      0.89      4832\n",
      "         1.0       0.93      0.98      0.95      3874\n",
      "         2.0       0.67      0.33      0.44       828\n",
      "         3.0       0.00      0.00      0.00       336\n",
      "         4.0       0.00      0.00      0.00       126\n",
      "\n",
      "   micro avg       0.87      0.87      0.87      9996\n",
      "   macro avg       0.49      0.45      0.46      9996\n",
      "weighted avg       0.82      0.87      0.83      9996\n",
      "\n",
      "0.8656462585034014\n"
     ]
    },
    {
     "name": "stderr",
     "output_type": "stream",
     "text": [
      "/opt/conda/lib/python3.6/site-packages/sklearn/metrics/classification.py:1143: UndefinedMetricWarning: Precision and F-score are ill-defined and being set to 0.0 in labels with no predicted samples.\n",
      "  'precision', 'predicted', average, warn_for)\n"
     ]
    }
   ],
   "source": [
    "testModel(XTest, YTest, nnmodel)"
   ]
  },
  {
   "cell_type": "code",
   "execution_count": null,
   "metadata": {},
   "outputs": [],
   "source": []
  }
 ],
 "metadata": {
  "kernelspec": {
   "display_name": "Python 3",
   "language": "python",
   "name": "python3"
  },
  "language_info": {
   "codemirror_mode": {
    "name": "ipython",
    "version": 3
   },
   "file_extension": ".py",
   "mimetype": "text/x-python",
   "name": "python",
   "nbconvert_exporter": "python",
   "pygments_lexer": "ipython3",
   "version": "3.6.8"
  }
 },
 "nbformat": 4,
 "nbformat_minor": 2
}
