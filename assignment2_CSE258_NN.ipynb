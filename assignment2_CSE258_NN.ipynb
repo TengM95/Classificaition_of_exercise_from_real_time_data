{
 "cells": [
  {
   "cell_type": "code",
   "execution_count": 1,
   "metadata": {},
   "outputs": [],
   "source": [
    "import os\n",
    "import time\n",
    "import numpy as np\n",
    "import matplotlib.pyplot as plt\n",
    "from sklearn.model_selection import train_test_split\n",
    "from collections import defaultdict\n",
    "import torch\n",
    "from torch import nn\n",
    "from torch.nn import functional as F\n",
    "import torch.utils.data as td\n",
    "import torchvision as tv\n",
    "import pandas as pd"
   ]
  },
  {
   "cell_type": "code",
   "execution_count": 2,
   "metadata": {},
   "outputs": [
    {
     "name": "stdout",
     "output_type": "stream",
     "text": [
      "cuda\n"
     ]
    }
   ],
   "source": [
    "device = 'cuda' if torch.cuda.is_available() else 'cpu' \n",
    "print(device)"
   ]
  },
  {
   "cell_type": "markdown",
   "metadata": {},
   "source": [
    "# 1. Load data"
   ]
  },
  {
   "cell_type": "code",
   "execution_count": 3,
   "metadata": {},
   "outputs": [],
   "source": [
    "# alldata = np.load('processed_endomondoHR_proper_interpolate.npy', allow_pickle=True)"
   ]
  },
  {
   "cell_type": "code",
   "execution_count": 4,
   "metadata": {},
   "outputs": [],
   "source": [
    "alldata = []\n",
    "for i in range(10 + 1):\n",
    "    alldata.extend(np.load('subDataset/processedData{}.npy'.format(i), allow_pickle=True))"
   ]
  },
  {
   "cell_type": "code",
   "execution_count": 5,
   "metadata": {},
   "outputs": [
    {
     "data": {
      "text/plain": [
       "102992"
      ]
     },
     "execution_count": 5,
     "metadata": {},
     "output_type": "execute_result"
    }
   ],
   "source": [
    "len(alldata)"
   ]
  },
  {
   "cell_type": "markdown",
   "metadata": {},
   "source": [
    "# 2. data analysis"
   ]
  },
  {
   "cell_type": "code",
   "execution_count": 6,
   "metadata": {},
   "outputs": [],
   "source": [
    "countType = defaultdict(int)"
   ]
  },
  {
   "cell_type": "code",
   "execution_count": 7,
   "metadata": {},
   "outputs": [],
   "source": [
    "for sample in alldata:\n",
    "    countType[sample['sport']] += 1"
   ]
  },
  {
   "cell_type": "code",
   "execution_count": 8,
   "metadata": {},
   "outputs": [],
   "source": [
    "countType = sorted(countType.items(), key = lambda x: -x[1])"
   ]
  },
  {
   "cell_type": "code",
   "execution_count": 9,
   "metadata": {
    "scrolled": false
   },
   "outputs": [],
   "source": [
    "name = []\n",
    "counts = []\n",
    "for k,v in countType:\n",
    "    name.append(k)\n",
    "    counts.append(v)"
   ]
  },
  {
   "cell_type": "code",
   "execution_count": 10,
   "metadata": {},
   "outputs": [
    {
     "data": {
      "text/plain": [
       "[('bike', 48493),\n",
       " ('run', 39201),\n",
       " ('mountain bike', 7711),\n",
       " ('bike (transport)', 3234),\n",
       " ('indoor cycling', 1320),\n",
       " ('cross-country skiing', 630),\n",
       " ('walk', 618),\n",
       " ('orienteering', 553),\n",
       " ('core stability training', 258),\n",
       " ('hiking', 193),\n",
       " ('fitness walking', 186),\n",
       " ('roller skiing', 158),\n",
       " ('skate', 124),\n",
       " ('kayaking', 60),\n",
       " ('circuit training', 53),\n",
       " ('rowing', 46),\n",
       " ('weight training', 31),\n",
       " ('downhill skiing', 24),\n",
       " ('soccer', 21),\n",
       " ('snowshoeing', 15),\n",
       " ('golf', 11),\n",
       " ('horseback riding', 7),\n",
       " ('tennis', 5),\n",
       " ('treadmill running', 5),\n",
       " ('badminton', 5),\n",
       " ('climbing', 5),\n",
       " ('basketball', 4),\n",
       " ('swimming', 4),\n",
       " ('table tennis', 3),\n",
       " ('rugby', 3),\n",
       " ('snowboarding', 2),\n",
       " ('elliptical', 2),\n",
       " ('gymnastics', 1),\n",
       " ('aerobics', 1),\n",
       " ('sailing', 1),\n",
       " ('kite surfing', 1),\n",
       " ('squash', 1),\n",
       " ('stair climing', 1),\n",
       " ('martial arts', 1)]"
      ]
     },
     "execution_count": 10,
     "metadata": {},
     "output_type": "execute_result"
    }
   ],
   "source": [
    "countType"
   ]
  },
  {
   "cell_type": "code",
   "execution_count": 11,
   "metadata": {},
   "outputs": [
    {
     "data": {
      "image/png": "[encoded data removed]",
      "text/plain": [
       "<Figure size 720x360 with 1 Axes>"
      ]
     },
     "metadata": {
      "needs_background": "light"
     },
     "output_type": "display_data"
    }
   ],
   "source": [
    "numOfSport = 5\n",
    "plt.figure(figsize = (10,5))\n",
    "plt.bar(name[:numOfSport], counts[:numOfSport])\n",
    "# plt.title(\"The MSE  vs different lambda\", fontsize=18)\n",
    "# plt.xlabel(\"lambda\", fontsize=18)\n",
    "# plt.ylabel(\"MSE\", fontsize=18)\n",
    "# plt.legend()\n",
    "# plt.tick_params(labelsize=15)\n",
    "plt.show()\n",
    "# bestIndex = np.argmin(MSEs_total)\n",
    "# print('we can see the smallest MSE is {:.4f} with lambda {:.5f}.'\\\n",
    "#       .format(MSEs_total[bestIndex], lambs_total[bestIndex]))"
   ]
  },
  {
   "cell_type": "code",
   "execution_count": 12,
   "metadata": {},
   "outputs": [],
   "source": [
    "# np.save('processedData.npy', data, allow_pickle=True)"
   ]
  },
  {
   "cell_type": "code",
   "execution_count": 13,
   "metadata": {},
   "outputs": [],
   "source": [
    "# for sportType in name:\n",
    "#     print(sportType)\n",
    "#     with open('subDataset/'+sportType+'DataSet.json','w') as outfile:\n",
    "#         for sample in data:\n",
    "#             if sample['sport'] == sportType:   \n",
    "# #                 print(type(sample))\n",
    "#                 json.dump(sample,outfile,ensure_ascii=False)\n",
    "#                 outfile.write('\\n')\n"
   ]
  },
  {
   "cell_type": "markdown",
   "metadata": {},
   "source": [
    "# 3. class and feature selection"
   ]
  },
  {
   "cell_type": "code",
   "execution_count": 14,
   "metadata": {},
   "outputs": [],
   "source": [
    "UsedClass = name[:5]\n",
    "# weight = sum(counts[:5])/ torch.tensor(counts[:5]).float()"
   ]
  },
  {
   "cell_type": "code",
   "execution_count": 15,
   "metadata": {},
   "outputs": [
    {
     "data": {
      "text/plain": [
       "['bike', 'run', 'mountain bike', 'bike (transport)', 'indoor cycling']"
      ]
     },
     "execution_count": 15,
     "metadata": {},
     "output_type": "execute_result"
    }
   ],
   "source": [
    "UsedClass"
   ]
  },
  {
   "cell_type": "code",
   "execution_count": 48,
   "metadata": {},
   "outputs": [],
   "source": [
    "labelIndex = dict()\n",
    "for i, sport in enumerate(UsedClass):\n",
    "    labelIndex[sport] = i\n",
    "# def feature(sample, numOfFre = 5):\n",
    "#     featureList = []\n",
    "#     featureList.append(labelIndex[sample['sport']])\n",
    "#     featureList.extend([1,0] if sample['gender'] == 'male' else [0,1])\n",
    "#     featureList.extend(sample['heart_rate'][::numOfFre])\n",
    "#     featureList.extend(sample['longitude'][::numOfFre])\n",
    "#     featureList.extend(sample['latitude'][::numOfFre])\n",
    "#     featureList.extend(sample['altitude'][::numOfFre])\n",
    "#     featureList.extend(sample['distance'][::numOfFre])\n",
    "#     featureList.extend(sample['derived_speed'][::numOfFre])    \n",
    "#     return featureList\n",
    "\n",
    "\n",
    "def feature(sample, numOfFre = 7):\n",
    "    featureList = []\n",
    "    featureList.append(labelIndex[sample['sport']])\n",
    "    featureList.extend([1,0] if sample['gender'] == 'male' else [0,1])\n",
    "    featureList.extend(sample['heart_rate'][:numOfFre])\n",
    "    featureList.extend(sample['longitude'][:numOfFre])\n",
    "    featureList.extend(sample['latitude'][:numOfFre])\n",
    "    featureList.extend(sample['altitude'][:numOfFre])\n",
    "    featureList.extend(sample['distance'][:numOfFre])\n",
    "    featureList.extend(sample['derived_speed'][:numOfFre])    \n",
    "    return featureList"
   ]
  },
  {
   "cell_type": "code",
   "execution_count": 49,
   "metadata": {},
   "outputs": [],
   "source": [
    "data = np.array([feature(sample) for sample in alldata if sample['sport'] in UsedClass], dtype= 'float32')"
   ]
  },
  {
   "cell_type": "code",
   "execution_count": 50,
   "metadata": {},
   "outputs": [],
   "source": [
    "train_data, val_test_data = train_test_split(data, test_size=1/5)\n",
    "val_data, test_data = train_test_split(val_test_data, test_size=1/2)"
   ]
  },
  {
   "cell_type": "code",
   "execution_count": 51,
   "metadata": {},
   "outputs": [],
   "source": [
    "XTrain = train_data[:,1:]\n",
    "YTrain = train_data[:,0]\n",
    "\n",
    "XTest = torch.from_numpy(test_data[:,1:]).cuda()\n",
    "YTest = torch.from_numpy(test_data[:,0])\n",
    "\n",
    "XVal = val_data[:,1:]\n",
    "YVal = val_data[:,0]"
   ]
  },
  {
   "cell_type": "code",
   "execution_count": 52,
   "metadata": {},
   "outputs": [],
   "source": [
    "class sportDataset(td.Dataset):\n",
    "    def __init__(self, X, Y): # initialize\n",
    "        super(sportDataset, self).__init__() # initialize the superclass\n",
    "        self.X = X.astype('float32')\n",
    "        self.Y = Y.astype('int64')\n",
    "    def __len__(self):\n",
    "        return len(self.X) # return the size of dataset\n",
    "    def __getitem__(self, idx):\n",
    "        x = self.X[idx] # do transformation\n",
    "        d = self.Y[idx] # get label\n",
    "        return x, d # return data and label\n",
    "    def number_of_classes(self):\n",
    "        return self.Y.max() + 1 # return the number of classes"
   ]
  },
  {
   "cell_type": "code",
   "execution_count": 53,
   "metadata": {},
   "outputs": [
    {
     "data": {
      "text/plain": [
       "800"
      ]
     },
     "execution_count": 53,
     "metadata": {},
     "output_type": "execute_result"
    }
   ],
   "source": [
    "train_set = sportDataset(XTrain, YTrain)\n",
    "train_loader = td.DataLoader(train_set, batch_size = 100, shuffle = True, pin_memory = True)\n",
    "len(train_loader)"
   ]
  },
  {
   "cell_type": "code",
   "execution_count": 54,
   "metadata": {},
   "outputs": [
    {
     "data": {
      "text/plain": [
       "100"
      ]
     },
     "execution_count": 54,
     "metadata": {},
     "output_type": "execute_result"
    }
   ],
   "source": [
    "val_set = sportDataset(XVal, YVal)\n",
    "val_loader = td.DataLoader(val_set, batch_size = 100, shuffle = False, pin_memory = True)\n",
    "len(val_loader)"
   ]
  },
  {
   "cell_type": "code",
   "execution_count": 55,
   "metadata": {},
   "outputs": [],
   "source": [
    "# test_set = sportDataset(XTest, YTest)\n",
    "# test_loader = td.DataLoader(test_set, batch_size = 100, shuffle = False, pin_memory = True)\n",
    "# len(test_loader)"
   ]
  },
  {
   "cell_type": "markdown",
   "metadata": {},
   "source": [
    "# 4. train model"
   ]
  },
  {
   "cell_type": "code",
   "execution_count": 56,
   "metadata": {},
   "outputs": [],
   "source": [
    "# class NNModel(nn.Module):\n",
    "\n",
    "#     def __init__(self, input_size, output_size, layers, p=0.5, device = 'cuda'):\n",
    "#         super().__init__()\n",
    "#         self.device = device\n",
    "#         self.batch_norm_num = nn.BatchNorm1d(input_size)\n",
    "\n",
    "#         all_layers = []\n",
    "\n",
    "#         for i in layers:\n",
    "#             all_layers.append(nn.Linear(input_size, i))\n",
    "#             all_layers.append(nn.ReLU(inplace=True))\n",
    "#             all_layers.append(nn.BatchNorm1d(i))\n",
    "#             all_layers.append(nn.Dropout(p))\n",
    "#             input_size = i\n",
    "\n",
    "#         all_layers.append(nn.Linear(layers[-1], output_size))\n",
    "\n",
    "#         self.layers = nn.Sequential(*all_layers)\n",
    "        \n",
    "\n",
    "#     def forward(self, x):\n",
    "#         x = self.layers(x)\n",
    "#         return x\n",
    "class NNModel(nn.Module):\n",
    "\n",
    "    def __init__(self, input_size, output_size, layers, p=0.5, device = 'cuda'):\n",
    "        super().__init__()\n",
    "        self.device = device\n",
    "\n",
    "        all_layers = []\n",
    "        input_size = input_size-2\n",
    "        for i in layers:\n",
    "            all_layers.append(nn.Linear(input_size, i))\n",
    "            all_layers.append(nn.ReLU(inplace=True))\n",
    "            all_layers.append(nn.BatchNorm1d(i))\n",
    "            all_layers.append(nn.Dropout(p))\n",
    "            input_size = i\n",
    "\n",
    "        self.classifier_layers = nn.Linear(layers[-1]+2, output_size)\n",
    "\n",
    "        self.layers = nn.Sequential(*all_layers)\n",
    "        \n",
    "\n",
    "    def forward(self, x):\n",
    "        y = self.layers(x[:,2:])\n",
    "        y = self.classifier_layers(torch.cat((y, x[:,0:2]),1))\n",
    "        return y"
   ]
  },
  {
   "cell_type": "code",
   "execution_count": 57,
   "metadata": {},
   "outputs": [],
   "source": [
    "def backprop_deep(net, T, gamma=.001, rho=.9, weight = None, output_dir = None): \n",
    "    if weight is not None:\n",
    "        weight = weight.cuda()    \n",
    "    criterion = nn.CrossEntropyLoss(weight)\n",
    "    optimizer = torch.optim.SGD(net.parameters(), lr=gamma, momentum=rho)\n",
    "    train_losses = []\n",
    "    train_accs = []\n",
    "    val_losses = []\n",
    "    val_accs = []\n",
    "    minVal_loss = float('inf')\n",
    "    minValCount = 0\n",
    "    \n",
    "    for epoch in range(T): \n",
    "        running_loss = 0.0 \n",
    "        train_loss = 0.0\n",
    "        train_correct = 0.0\n",
    "        net.train()\n",
    "        count = 0\n",
    "        for inputs, labels in train_loader:\n",
    "            inputs, labels = inputs.to(net.device), labels.to(net.device)\n",
    "            # Initialize the gradients to zero\n",
    "            optimizer.zero_grad()\n",
    "            # Forward propagation\n",
    "            outputs = net(inputs)\n",
    "            # Error evaluation\n",
    "            loss = criterion(outputs, labels)\n",
    "            # Back propagation\n",
    "            loss.backward()\n",
    "            # Parameter update\n",
    "            optimizer.step()\n",
    "            with torch.no_grad():\n",
    "                running_loss += loss.item() \n",
    "                train_loss += loss.item()\n",
    "                _, y_pred = outputs.max(-1)\n",
    "                correct = sum(y_pred == labels).item()\n",
    "                train_correct += correct\n",
    "            count += len(labels)\n",
    "            if (count // len(labels)) % 1000 == 0:\n",
    "                print('Iteration %d, count %d, running loss: %.3f' %\n",
    "                      (epoch + 1, count, running_loss))\n",
    "                running_loss = 0.0\n",
    "        train_losses.append(train_loss/8)\n",
    "        train_accs.append(train_correct/count*100)\n",
    "        print('Iteration %d, train loss: %.3f train acc : %.3f' % \\\n",
    "                  (epoch + 1, train_loss/8, train_correct/count*100))               \n",
    "                \n",
    "        ## validation   \n",
    "        val_loss = 0\n",
    "        val_correct = 0.0\n",
    "        val_count = 0.0\n",
    "        net.eval()\n",
    "        with torch.no_grad():\n",
    "            for inputs, labels in val_loader:\n",
    "                inputs, labels = inputs.to(net.device), labels.to(net.device)\n",
    "                # Initialize the gradients to zero\n",
    "                optimizer.zero_grad()\n",
    "                # Forward propagation\n",
    "                outputs = net(inputs)\n",
    "                # Error evaluation\n",
    "                loss = criterion(outputs, labels)\n",
    "                val_loss += loss.item() \n",
    "                _, y_pred = outputs.max(-1)\n",
    "                correct = sum(y_pred == labels).item()\n",
    "                val_correct += correct\n",
    "                val_count += len(labels)\n",
    "                \n",
    "        print('Iteration %d, validation loss: %.3f validation acc: %.3f' % \\\n",
    "                  (epoch + 1, val_loss, val_correct/val_count*100))\n",
    "        minValCount += 1\n",
    "        if val_loss < minVal_loss:\n",
    "            minVal_loss = val_loss\n",
    "            minValCount = 0\n",
    "            \n",
    "            if output_dir is None:\n",
    "                if weight is not None:\n",
    "                    output_dir = 'checkpoint/NN/weight/experiment_nn{}'.format(time.time())\n",
    "                else:\n",
    "                    output_dir = 'checkpoint/NN/unweighted/experiment_nn{}'.format(time.time())\n",
    "            os.makedirs(output_dir, exist_ok=True)\n",
    "            checkpoint_path = os.path.join(output_dir, \"checkpoint.pth.tar\")\n",
    "            config_path = os.path.join(output_dir, \"config.txt\")\n",
    "            state_dict = {'Net': net.state_dict(), 'Optimizer': optimizer.state_dict()}\n",
    "            torch.save(state_dict, checkpoint_path)\n",
    "            with open(config_path, 'w') as f:\n",
    "                print(net, file=f)\n",
    "            \n",
    "            \n",
    "        val_losses.append(val_loss)\n",
    "        val_accs.append(val_correct/val_count*100)\n",
    "        if minValCount > 20:\n",
    "            break\n",
    "    checkpoint = torch.load(checkpoint_path, map_location=net.device)\n",
    "    net.load_state_dict(checkpoint['Net'])\n",
    "    print(\"Finish training for {} epochs\".format(T))\n",
    "    return train_losses, val_losses, train_accs, val_accs"
   ]
  },
  {
   "cell_type": "code",
   "execution_count": 58,
   "metadata": {
    "scrolled": false
   },
   "outputs": [],
   "source": [
    "nnmodel = NNModel(len(XTrain[0]), len(UsedClass), [400, 300, 200, 20]).to(device)\n",
    "# nnmodel"
   ]
  },
  {
   "cell_type": "code",
   "execution_count": 59,
   "metadata": {
    "scrolled": false
   },
   "outputs": [
    {
     "name": "stdout",
     "output_type": "stream",
     "text": [
      "Iteration 1, train loss: 99.716 train acc : 67.085\n",
      "Iteration 1, validation loss: 79.771 validation acc: 76.251\n",
      "Iteration 2, train loss: 77.602 train acc : 75.227\n",
      "Iteration 2, validation loss: 68.174 validation acc: 78.051\n",
      "Iteration 3, train loss: 74.011 train acc : 76.407\n",
      "Iteration 3, validation loss: 63.422 validation acc: 79.592\n",
      "Iteration 4, train loss: 71.768 train acc : 77.277\n",
      "Iteration 4, validation loss: 61.031 validation acc: 80.602\n",
      "Iteration 5, train loss: 69.986 train acc : 77.947\n",
      "Iteration 5, validation loss: 64.406 validation acc: 79.642\n",
      "Iteration 6, train loss: 68.728 train acc : 78.370\n",
      "Iteration 6, validation loss: 59.681 validation acc: 81.172\n",
      "Iteration 7, train loss: 67.423 train acc : 78.736\n",
      "Iteration 7, validation loss: 59.177 validation acc: 81.533\n",
      "Iteration 8, train loss: 66.680 train acc : 79.094\n",
      "Iteration 8, validation loss: 60.058 validation acc: 81.012\n",
      "Iteration 9, train loss: 66.596 train acc : 79.128\n",
      "Iteration 9, validation loss: 65.274 validation acc: 79.342\n",
      "Iteration 10, train loss: 65.920 train acc : 79.260\n",
      "Iteration 10, validation loss: 69.181 validation acc: 79.082\n",
      "Iteration 11, train loss: 65.465 train acc : 79.405\n",
      "Iteration 11, validation loss: 59.683 validation acc: 80.872\n",
      "Iteration 12, train loss: 64.928 train acc : 79.589\n",
      "Iteration 12, validation loss: 57.001 validation acc: 82.283\n",
      "Iteration 13, train loss: 64.452 train acc : 79.653\n",
      "Iteration 13, validation loss: 60.598 validation acc: 81.473\n",
      "Iteration 14, train loss: 64.051 train acc : 79.842\n",
      "Iteration 14, validation loss: 62.086 validation acc: 79.922\n",
      "Iteration 15, train loss: 63.618 train acc : 79.968\n",
      "Iteration 15, validation loss: 59.924 validation acc: 80.792\n",
      "Iteration 16, train loss: 63.432 train acc : 79.923\n",
      "Iteration 16, validation loss: 58.301 validation acc: 81.893\n",
      "Iteration 17, train loss: 63.121 train acc : 80.061\n",
      "Iteration 17, validation loss: 58.350 validation acc: 81.152\n",
      "Iteration 18, train loss: 62.902 train acc : 80.156\n",
      "Iteration 18, validation loss: 61.991 validation acc: 79.892\n",
      "Iteration 19, train loss: 62.885 train acc : 80.091\n",
      "Iteration 19, validation loss: 55.097 validation acc: 82.493\n",
      "Iteration 20, train loss: 62.272 train acc : 80.331\n",
      "Iteration 20, validation loss: 54.568 validation acc: 82.613\n",
      "Iteration 21, train loss: 62.262 train acc : 80.264\n",
      "Iteration 21, validation loss: 55.707 validation acc: 82.123\n",
      "Iteration 22, train loss: 61.694 train acc : 80.489\n",
      "Iteration 22, validation loss: 55.751 validation acc: 82.153\n",
      "Iteration 23, train loss: 61.687 train acc : 80.363\n",
      "Iteration 23, validation loss: 56.973 validation acc: 82.123\n",
      "Iteration 24, train loss: 61.540 train acc : 80.307\n",
      "Iteration 24, validation loss: 57.217 validation acc: 81.783\n",
      "Iteration 25, train loss: 61.006 train acc : 80.621\n",
      "Iteration 25, validation loss: 56.509 validation acc: 81.693\n",
      "Iteration 26, train loss: 61.265 train acc : 80.489\n",
      "Iteration 26, validation loss: 54.105 validation acc: 82.473\n",
      "Iteration 27, train loss: 60.714 train acc : 80.641\n",
      "Iteration 27, validation loss: 55.761 validation acc: 82.333\n",
      "Iteration 28, train loss: 60.530 train acc : 80.688\n",
      "Iteration 28, validation loss: 55.715 validation acc: 82.273\n",
      "Iteration 29, train loss: 60.073 train acc : 80.828\n",
      "Iteration 29, validation loss: 53.877 validation acc: 82.523\n",
      "Iteration 30, train loss: 60.190 train acc : 80.780\n",
      "Iteration 30, validation loss: 51.697 validation acc: 82.943\n",
      "Iteration 31, train loss: 59.993 train acc : 80.708\n",
      "Iteration 31, validation loss: 60.431 validation acc: 80.832\n",
      "Iteration 32, train loss: 59.802 train acc : 80.742\n",
      "Iteration 32, validation loss: 61.065 validation acc: 80.502\n",
      "Iteration 33, train loss: 59.637 train acc : 80.781\n",
      "Iteration 33, validation loss: 57.713 validation acc: 81.633\n",
      "Iteration 34, train loss: 59.542 train acc : 80.778\n",
      "Iteration 34, validation loss: 52.903 validation acc: 82.933\n",
      "Iteration 35, train loss: 59.264 train acc : 80.916\n",
      "Iteration 35, validation loss: 52.810 validation acc: 82.383\n",
      "Iteration 36, train loss: 59.292 train acc : 80.925\n",
      "Iteration 36, validation loss: 53.703 validation acc: 82.653\n",
      "Iteration 37, train loss: 59.255 train acc : 80.907\n",
      "Iteration 37, validation loss: 66.657 validation acc: 79.992\n",
      "Iteration 38, train loss: 59.195 train acc : 80.997\n",
      "Iteration 38, validation loss: 57.934 validation acc: 81.293\n",
      "Iteration 39, train loss: 58.735 train acc : 81.155\n",
      "Iteration 39, validation loss: 53.430 validation acc: 82.393\n",
      "Iteration 40, train loss: 58.854 train acc : 80.988\n",
      "Iteration 40, validation loss: 53.764 validation acc: 82.423\n",
      "Iteration 41, train loss: 58.594 train acc : 81.150\n",
      "Iteration 41, validation loss: 53.289 validation acc: 82.503\n",
      "Iteration 42, train loss: 58.730 train acc : 81.132\n",
      "Iteration 42, validation loss: 53.606 validation acc: 82.683\n",
      "Iteration 43, train loss: 58.529 train acc : 81.067\n",
      "Iteration 43, validation loss: 51.645 validation acc: 82.923\n",
      "Iteration 44, train loss: 58.515 train acc : 81.061\n",
      "Iteration 44, validation loss: 53.113 validation acc: 82.503\n",
      "Iteration 45, train loss: 58.242 train acc : 81.113\n",
      "Iteration 45, validation loss: 56.821 validation acc: 81.423\n",
      "Iteration 46, train loss: 58.222 train acc : 81.230\n",
      "Iteration 46, validation loss: 50.437 validation acc: 82.923\n",
      "Iteration 47, train loss: 58.097 train acc : 81.142\n",
      "Iteration 47, validation loss: 50.968 validation acc: 82.943\n",
      "Iteration 48, train loss: 57.804 train acc : 81.208\n",
      "Iteration 48, validation loss: 51.410 validation acc: 82.753\n",
      "Iteration 49, train loss: 57.882 train acc : 81.225\n",
      "Iteration 49, validation loss: 54.373 validation acc: 82.463\n",
      "Iteration 50, train loss: 58.003 train acc : 81.182\n",
      "Iteration 50, validation loss: 51.762 validation acc: 82.903\n",
      "Iteration 51, train loss: 57.825 train acc : 81.206\n",
      "Iteration 51, validation loss: 51.635 validation acc: 82.423\n",
      "Iteration 52, train loss: 57.910 train acc : 81.239\n",
      "Iteration 52, validation loss: 53.689 validation acc: 82.033\n",
      "Iteration 53, train loss: 57.669 train acc : 81.307\n",
      "Iteration 53, validation loss: 53.902 validation acc: 82.013\n",
      "Iteration 54, train loss: 57.393 train acc : 81.332\n",
      "Iteration 54, validation loss: 52.005 validation acc: 82.873\n",
      "Iteration 55, train loss: 57.530 train acc : 81.246\n",
      "Iteration 55, validation loss: 52.858 validation acc: 82.253\n",
      "Iteration 56, train loss: 57.311 train acc : 81.385\n",
      "Iteration 56, validation loss: 51.051 validation acc: 82.883\n",
      "Iteration 57, train loss: 57.171 train acc : 81.482\n",
      "Iteration 57, validation loss: 51.630 validation acc: 82.963\n",
      "Iteration 58, train loss: 57.231 train acc : 81.419\n",
      "Iteration 58, validation loss: 56.150 validation acc: 81.343\n",
      "Iteration 59, train loss: 57.098 train acc : 81.341\n",
      "Iteration 59, validation loss: 57.664 validation acc: 81.263\n",
      "Iteration 60, train loss: 57.166 train acc : 81.397\n",
      "Iteration 60, validation loss: 57.082 validation acc: 81.202\n",
      "Iteration 61, train loss: 57.101 train acc : 81.401\n",
      "Iteration 61, validation loss: 53.379 validation acc: 81.973\n",
      "Iteration 62, train loss: 57.116 train acc : 81.359\n",
      "Iteration 62, validation loss: 52.481 validation acc: 82.533\n",
      "Iteration 63, train loss: 56.836 train acc : 81.532\n",
      "Iteration 63, validation loss: 52.237 validation acc: 82.523\n",
      "Iteration 64, train loss: 57.212 train acc : 81.476\n",
      "Iteration 64, validation loss: 49.682 validation acc: 83.323\n",
      "Iteration 65, train loss: 56.814 train acc : 81.400\n",
      "Iteration 65, validation loss: 49.082 validation acc: 83.363\n",
      "Iteration 66, train loss: 56.606 train acc : 81.586\n",
      "Iteration 66, validation loss: 50.236 validation acc: 82.853\n",
      "Iteration 67, train loss: 56.960 train acc : 81.397\n",
      "Iteration 67, validation loss: 51.203 validation acc: 82.833\n",
      "Iteration 68, train loss: 56.534 train acc : 81.474\n",
      "Iteration 68, validation loss: 54.590 validation acc: 81.983\n",
      "Iteration 69, train loss: 56.498 train acc : 81.576\n",
      "Iteration 69, validation loss: 48.824 validation acc: 83.443\n",
      "Iteration 70, train loss: 56.432 train acc : 81.556\n",
      "Iteration 70, validation loss: 55.850 validation acc: 81.413\n",
      "Iteration 71, train loss: 56.205 train acc : 81.555\n",
      "Iteration 71, validation loss: 50.928 validation acc: 82.943\n",
      "Iteration 72, train loss: 56.444 train acc : 81.537\n",
      "Iteration 72, validation loss: 55.919 validation acc: 81.753\n",
      "Iteration 73, train loss: 56.444 train acc : 81.457\n",
      "Iteration 73, validation loss: 52.301 validation acc: 82.483\n"
     ]
    },
    {
     "name": "stdout",
     "output_type": "stream",
     "text": [
      "Iteration 74, train loss: 56.128 train acc : 81.541\n",
      "Iteration 74, validation loss: 50.767 validation acc: 82.923\n",
      "Iteration 75, train loss: 56.105 train acc : 81.704\n",
      "Iteration 75, validation loss: 52.787 validation acc: 82.383\n",
      "Iteration 76, train loss: 56.076 train acc : 81.581\n",
      "Iteration 76, validation loss: 49.881 validation acc: 82.903\n",
      "Iteration 77, train loss: 56.217 train acc : 81.410\n",
      "Iteration 77, validation loss: 55.620 validation acc: 82.013\n",
      "Iteration 78, train loss: 55.967 train acc : 81.619\n",
      "Iteration 78, validation loss: 57.715 validation acc: 81.283\n",
      "Iteration 79, train loss: 55.968 train acc : 81.627\n",
      "Iteration 79, validation loss: 57.303 validation acc: 81.413\n",
      "Iteration 80, train loss: 56.000 train acc : 81.615\n",
      "Iteration 80, validation loss: 49.465 validation acc: 82.893\n",
      "Iteration 81, train loss: 55.989 train acc : 81.565\n",
      "Iteration 81, validation loss: 58.605 validation acc: 81.443\n",
      "Iteration 82, train loss: 56.077 train acc : 81.656\n",
      "Iteration 82, validation loss: 52.557 validation acc: 82.833\n",
      "Iteration 83, train loss: 55.780 train acc : 81.569\n",
      "Iteration 83, validation loss: 59.350 validation acc: 81.413\n",
      "Iteration 84, train loss: 55.873 train acc : 81.572\n",
      "Iteration 84, validation loss: 55.139 validation acc: 82.043\n",
      "Iteration 85, train loss: 55.613 train acc : 81.656\n",
      "Iteration 85, validation loss: 64.839 validation acc: 80.862\n",
      "Iteration 86, train loss: 55.686 train acc : 81.555\n",
      "Iteration 86, validation loss: 55.225 validation acc: 81.062\n",
      "Iteration 87, train loss: 55.916 train acc : 81.540\n",
      "Iteration 87, validation loss: 48.977 validation acc: 83.313\n",
      "Iteration 88, train loss: 55.746 train acc : 81.630\n",
      "Iteration 88, validation loss: 58.655 validation acc: 81.903\n",
      "Iteration 89, train loss: 55.542 train acc : 81.720\n",
      "Iteration 89, validation loss: 51.469 validation acc: 82.853\n",
      "Iteration 90, train loss: 55.497 train acc : 81.674\n",
      "Iteration 90, validation loss: 51.922 validation acc: 82.693\n",
      "Finish training for 500 epochs\n"
     ]
    }
   ],
   "source": [
    "epochs = 500\n",
    "train_losses, val_losses, train_accs, val_accs = backprop_deep(nnmodel, T=epochs )"
   ]
  },
  {
   "cell_type": "code",
   "execution_count": 60,
   "metadata": {},
   "outputs": [
    {
     "data": {
      "text/plain": [
       "<matplotlib.legend.Legend at 0x7f80a529ada0>"
      ]
     },
     "execution_count": 60,
     "metadata": {},
     "output_type": "execute_result"
    },
    {
     "data": {
      "image/png": "[encoded data removed]",
      "text/plain": [
       "<Figure size 1296x432 with 2 Axes>"
      ]
     },
     "metadata": {
      "needs_background": "light"
     },
     "output_type": "display_data"
    }
   ],
   "source": [
    "final_epochs = len(train_losses)\n",
    "fig, axes = plt.subplots(ncols=2, figsize=(18, 6))\n",
    "\n",
    "axes[0].plot(range(final_epochs), train_losses, label = 'train loss')\n",
    "axes[0].plot(range(final_epochs), val_losses, label = 'val loss')\n",
    "axes[0].set_xlabel('Epoch') \n",
    "axes[0].set_ylabel('Loss')\n",
    "axes[0].legend()\n",
    "\n",
    "axes[1].plot(range(final_epochs), train_accs, label = 'train acc')\n",
    "axes[1].plot(range(final_epochs), val_accs, label = 'val acc')\n",
    "axes[1].set_xlabel('Epoch') \n",
    "axes[1].set_ylabel('Acc')\n",
    "axes[1].legend()"
   ]
  },
  {
   "cell_type": "markdown",
   "metadata": {},
   "source": [
    "# 5. test model"
   ]
  },
  {
   "cell_type": "code",
   "execution_count": 61,
   "metadata": {},
   "outputs": [],
   "source": [
    "from sklearn.metrics import classification_report, confusion_matrix, accuracy_score\n",
    "def testModel(xtest, ytest, net): \n",
    "    net.eval()\n",
    "    with torch.no_grad():\n",
    "        outputs = net(xtest).cpu()\n",
    "    y_val = np.argmax(outputs, axis=1)   \n",
    "    print(confusion_matrix(ytest,y_val))\n",
    "    print(classification_report(ytest,y_val))\n",
    "    print(accuracy_score(ytest, y_val))\n",
    "    return confusion_matrix(ytest,y_val)\n",
    "# def testModel(xtest, ytest, net): \n",
    "#     net.eval()\n",
    "#     with torch.no_grad():\n",
    "#         outputs = net(xtest)\n",
    "#     _, y_val = outputs.max(-1)\n",
    "#     correct = sum(y_val == ytest).item()\n",
    "#     acc =  correct / len(y_val) * 100\n",
    "#     return acc, correct\n",
    "def plot_confusion_matrix(cm, classes,\n",
    "                          normalize=False,\n",
    "                          title='Confusion matrix'):\n",
    "    \"\"\"\n",
    "    This function prints and plots the confusion matrix.\n",
    "    Normalization can be applied by setting `normalize=True`.\n",
    "    \"\"\"\n",
    "    import itertools\n",
    "    if normalize:\n",
    "        cm = cm.astype('float') / cm.sum(axis=1)[:, np.newaxis]\n",
    "        print(\"Normalized confusion matrix\")\n",
    "    else:\n",
    "        print('Confusion matrix, without normalization')\n",
    "\n",
    "    print(cm)\n",
    "\n",
    "    plt.imshow(cm, interpolation='nearest')\n",
    "    plt.title(title)\n",
    "    plt.colorbar()\n",
    "    tick_marks = np.arange(len(classes))\n",
    "    plt.xticks(tick_marks, classes, rotation=45)\n",
    "    plt.yticks(tick_marks, classes)\n",
    "\n",
    "#     fmt = '.2f' if normalize else 'd'\n",
    "#     thresh = cm.max() / 2.\n",
    "#     for i, j in itertools.product(range(cm.shape[0]), range(cm.shape[1])):\n",
    "#         plt.text(j, i, format(cm[i, j], fmt),\n",
    "#                  horizontalalignment=\"center\",\n",
    "#                  color=\"white\" if cm[i, j] > thresh else \"black\")\n",
    "\n",
    "    plt.ylabel('True label')\n",
    "    plt.xlabel('Predicted label')\n",
    "    plt.tight_layout()"
   ]
  },
  {
   "cell_type": "code",
   "execution_count": 62,
   "metadata": {},
   "outputs": [
    {
     "name": "stdout",
     "output_type": "stream",
     "text": [
      "[[4617  217    1    0    0]\n",
      " [ 267 3663    0    0    0]\n",
      " [ 686   86    0    1    0]\n",
      " [ 300   26    0    0    0]\n",
      " [ 110   22    0    0    0]]\n",
      "              precision    recall  f1-score   support\n",
      "\n",
      "         0.0       0.77      0.95      0.85      4835\n",
      "         1.0       0.91      0.93      0.92      3930\n",
      "         2.0       0.00      0.00      0.00       773\n",
      "         3.0       0.00      0.00      0.00       326\n",
      "         4.0       0.00      0.00      0.00       132\n",
      "\n",
      "   micro avg       0.83      0.83      0.83      9996\n",
      "   macro avg       0.34      0.38      0.36      9996\n",
      "weighted avg       0.73      0.83      0.78      9996\n",
      "\n",
      "0.8283313325330132\n"
     ]
    },
    {
     "name": "stderr",
     "output_type": "stream",
     "text": [
      "/opt/conda/lib/python3.6/site-packages/sklearn/metrics/classification.py:1143: UndefinedMetricWarning: Precision and F-score are ill-defined and being set to 0.0 in labels with no predicted samples.\n",
      "  'precision', 'predicted', average, warn_for)\n"
     ]
    }
   ],
   "source": [
    "cnf_matrix = testModel(XTest, YTest, nnmodel)"
   ]
  },
  {
   "cell_type": "code",
   "execution_count": 63,
   "metadata": {},
   "outputs": [
    {
     "name": "stdout",
     "output_type": "stream",
     "text": [
      "Normalized confusion matrix\n",
      "[[9.55e-01 4.49e-02 2.07e-04 0.00e+00 0.00e+00]\n",
      " [6.79e-02 9.32e-01 0.00e+00 0.00e+00 0.00e+00]\n",
      " [8.87e-01 1.11e-01 0.00e+00 1.29e-03 0.00e+00]\n",
      " [9.20e-01 7.98e-02 0.00e+00 0.00e+00 0.00e+00]\n",
      " [8.33e-01 1.67e-01 0.00e+00 0.00e+00 0.00e+00]]\n"
     ]
    },
    {
     "data": {
      "image/png": "[encoded data removed]",
      "text/plain": [
       "<Figure size 432x288 with 2 Axes>"
      ]
     },
     "metadata": {
      "needs_background": "light"
     },
     "output_type": "display_data"
    }
   ],
   "source": [
    "# Compute confusion matrix\n",
    "\n",
    "np.set_printoptions(precision=2)\n",
    "class_names = UsedClass\n",
    "# Plot normalized confusion matrix\n",
    "plt.figure()\n",
    "plot_confusion_matrix(cnf_matrix, classes=class_names, normalize=True,\n",
    "                      title='Normalized confusion matrix')\n",
    "\n",
    "plt.show()"
   ]
  },
  {
   "cell_type": "code",
   "execution_count": null,
   "metadata": {},
   "outputs": [],
   "source": []
  }
 ],
 "metadata": {
  "kernelspec": {
   "display_name": "Python 3",
   "language": "python",
   "name": "python3"
  },
  "language_info": {
   "codemirror_mode": {
    "name": "ipython",
    "version": 3
   },
   "file_extension": ".py",
   "mimetype": "text/x-python",
   "name": "python",
   "nbconvert_exporter": "python",
   "pygments_lexer": "ipython3",
   "version": "3.6.8"
  }
 },
 "nbformat": 4,
 "nbformat_minor": 2
}
