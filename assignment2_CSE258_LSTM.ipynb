{
 "cells": [
  {
   "cell_type": "code",
   "execution_count": 1,
   "metadata": {},
   "outputs": [],
   "source": [
    "import os\n",
    "import numpy as np\n",
    "import matplotlib.pyplot as plt\n",
    "from sklearn.model_selection import train_test_split\n",
    "from collections import defaultdict\n",
    "import torch\n",
    "from torch import nn\n",
    "from torch.nn import functional as F\n",
    "import torch.utils.data as td\n",
    "import torchvision as tv\n",
    "import pandas as pd"
   ]
  },
  {
   "cell_type": "code",
   "execution_count": 2,
   "metadata": {},
   "outputs": [
    {
     "name": "stdout",
     "output_type": "stream",
     "text": [
      "cuda\n"
     ]
    }
   ],
   "source": [
    "device = 'cuda' if torch.cuda.is_available() else 'cpu' \n",
    "print(device)"
   ]
  },
  {
   "cell_type": "markdown",
   "metadata": {},
   "source": [
    "# 1. Load data"
   ]
  },
  {
   "cell_type": "code",
   "execution_count": 3,
   "metadata": {},
   "outputs": [],
   "source": [
    "# alldata = np.load('processed_endomondoHR_proper_interpolate.npy', allow_pickle=True)"
   ]
  },
  {
   "cell_type": "code",
   "execution_count": 4,
   "metadata": {},
   "outputs": [],
   "source": [
    "alldata = []\n",
    "for i in range(10 + 1):\n",
    "    alldata.extend(np.load('subDataset/processedData{}.npy'.format(i), allow_pickle=True))"
   ]
  },
  {
   "cell_type": "code",
   "execution_count": 5,
   "metadata": {},
   "outputs": [
    {
     "data": {
      "text/plain": [
       "102992"
      ]
     },
     "execution_count": 5,
     "metadata": {},
     "output_type": "execute_result"
    }
   ],
   "source": [
    "len(alldata)"
   ]
  },
  {
   "cell_type": "markdown",
   "metadata": {},
   "source": [
    "# 2. data analysis"
   ]
  },
  {
   "cell_type": "code",
   "execution_count": 6,
   "metadata": {},
   "outputs": [],
   "source": [
    "countType = defaultdict(int)"
   ]
  },
  {
   "cell_type": "code",
   "execution_count": 7,
   "metadata": {},
   "outputs": [],
   "source": [
    "for sample in alldata:\n",
    "    countType[sample['sport']] += 1"
   ]
  },
  {
   "cell_type": "code",
   "execution_count": 8,
   "metadata": {},
   "outputs": [],
   "source": [
    "countType = sorted(countType.items(), key = lambda x: -x[1])"
   ]
  },
  {
   "cell_type": "code",
   "execution_count": 9,
   "metadata": {
    "scrolled": false
   },
   "outputs": [],
   "source": [
    "name = []\n",
    "counts = []\n",
    "for k,v in countType:\n",
    "    name.append(k)\n",
    "    counts.append(v)"
   ]
  },
  {
   "cell_type": "code",
   "execution_count": 10,
   "metadata": {},
   "outputs": [
    {
     "data": {
      "text/plain": [
       "[('bike', 48493),\n",
       " ('run', 39201),\n",
       " ('mountain bike', 7711),\n",
       " ('bike (transport)', 3234),\n",
       " ('indoor cycling', 1320),\n",
       " ('cross-country skiing', 630),\n",
       " ('walk', 618),\n",
       " ('orienteering', 553),\n",
       " ('core stability training', 258),\n",
       " ('hiking', 193),\n",
       " ('fitness walking', 186),\n",
       " ('roller skiing', 158),\n",
       " ('skate', 124),\n",
       " ('kayaking', 60),\n",
       " ('circuit training', 53),\n",
       " ('rowing', 46),\n",
       " ('weight training', 31),\n",
       " ('downhill skiing', 24),\n",
       " ('soccer', 21),\n",
       " ('snowshoeing', 15),\n",
       " ('golf', 11),\n",
       " ('horseback riding', 7),\n",
       " ('tennis', 5),\n",
       " ('treadmill running', 5),\n",
       " ('badminton', 5),\n",
       " ('climbing', 5),\n",
       " ('basketball', 4),\n",
       " ('swimming', 4),\n",
       " ('table tennis', 3),\n",
       " ('rugby', 3),\n",
       " ('snowboarding', 2),\n",
       " ('elliptical', 2),\n",
       " ('gymnastics', 1),\n",
       " ('aerobics', 1),\n",
       " ('sailing', 1),\n",
       " ('kite surfing', 1),\n",
       " ('squash', 1),\n",
       " ('stair climing', 1),\n",
       " ('martial arts', 1)]"
      ]
     },
     "execution_count": 10,
     "metadata": {},
     "output_type": "execute_result"
    }
   ],
   "source": [
    "countType"
   ]
  },
  {
   "cell_type": "code",
   "execution_count": 11,
   "metadata": {},
   "outputs": [
    {
     "data": {
      "image/png": "[encoded data removed]",
      "text/plain": [
       "<Figure size 720x360 with 1 Axes>"
      ]
     },
     "metadata": {
      "needs_background": "light"
     },
     "output_type": "display_data"
    }
   ],
   "source": [
    "numOfSport = 5\n",
    "plt.figure(figsize = (10,5))\n",
    "plt.bar(name[:numOfSport], counts[:numOfSport])\n",
    "# plt.title(\"The MSE  vs different lambda\", fontsize=18)\n",
    "# plt.xlabel(\"lambda\", fontsize=18)\n",
    "# plt.ylabel(\"MSE\", fontsize=18)\n",
    "# plt.legend()\n",
    "# plt.tick_params(labelsize=15)\n",
    "plt.show()\n",
    "# bestIndex = np.argmin(MSEs_total)\n",
    "# print('we can see the smallest MSE is {:.4f} with lambda {:.5f}.'\\\n",
    "#       .format(MSEs_total[bestIndex], lambs_total[bestIndex]))"
   ]
  },
  {
   "cell_type": "code",
   "execution_count": 12,
   "metadata": {},
   "outputs": [],
   "source": [
    "# np.save('processedData.npy', data, allow_pickle=True)"
   ]
  },
  {
   "cell_type": "code",
   "execution_count": 13,
   "metadata": {},
   "outputs": [],
   "source": [
    "# for sportType in name:\n",
    "#     print(sportType)\n",
    "#     with open('subDataset/'+sportType+'DataSet.json','w') as outfile:\n",
    "#         for sample in data:\n",
    "#             if sample['sport'] == sportType:   \n",
    "# #                 print(type(sample))\n",
    "#                 json.dump(sample,outfile,ensure_ascii=False)\n",
    "#                 outfile.write('\\n')\n"
   ]
  },
  {
   "cell_type": "markdown",
   "metadata": {},
   "source": [
    "# 3. class and feature selection"
   ]
  },
  {
   "cell_type": "code",
   "execution_count": 14,
   "metadata": {},
   "outputs": [],
   "source": [
    "UsedClass = name[:5]\n",
    "# weight = sum(counts[:5])/ torch.tensor(counts[:5]).float()"
   ]
  },
  {
   "cell_type": "code",
   "execution_count": 15,
   "metadata": {},
   "outputs": [
    {
     "data": {
      "text/plain": [
       "['bike', 'run', 'mountain bike', 'bike (transport)', 'indoor cycling']"
      ]
     },
     "execution_count": 15,
     "metadata": {},
     "output_type": "execute_result"
    }
   ],
   "source": [
    "UsedClass"
   ]
  },
  {
   "cell_type": "code",
   "execution_count": 16,
   "metadata": {},
   "outputs": [],
   "source": [
    "labelIndex = dict()\n",
    "for i, sport in enumerate(UsedClass):\n",
    "    labelIndex[sport] = i\n",
    "def feature(sample, numOfFre = 5):\n",
    "    featureList = []\n",
    "    featureList.append(labelIndex[sample['sport']])\n",
    "    featureList.extend([1,0] if sample['gender'] == 'male' else [0,1])\n",
    "    \n",
    "    inputFeat = []\n",
    "    inputFeat.append(sample['heart_rate'][::numOfFre])\n",
    "    inputFeat.append(sample['longitude'][::numOfFre])\n",
    "    inputFeat.append(sample['latitude'][::numOfFre])\n",
    "    inputFeat.append(sample['altitude'][::numOfFre])\n",
    "    inputFeat.append(sample['distance'][::numOfFre])\n",
    "    inputFeat.append(sample['time_elapsed'][::numOfFre])    \n",
    "    featureList.append(list(zip(*inputFeat)))\n",
    "    return featureList"
   ]
  },
  {
   "cell_type": "code",
   "execution_count": 17,
   "metadata": {},
   "outputs": [],
   "source": [
    "data = [feature(sample) for sample in alldata if sample['sport'] in UsedClass]"
   ]
  },
  {
   "cell_type": "code",
   "execution_count": 18,
   "metadata": {},
   "outputs": [],
   "source": [
    "train_data, val_test_data = train_test_split(data, test_size=1/5)\n",
    "val_data, test_data = train_test_split(val_test_data, test_size=1/2)"
   ]
  },
  {
   "cell_type": "code",
   "execution_count": 138,
   "metadata": {},
   "outputs": [],
   "source": [
    "XTrainGender = np.array([sample[1:3] for sample in train_data], dtype= 'float32')\n",
    "XTrainSeq = np.array([sample[3] for sample in train_data], dtype= 'float32')\n",
    "XTrain = [XTrainGender, XTrainSeq]\n",
    "YTrain = np.array([sample[0] for sample in train_data])\n",
    "\n",
    "\n",
    "XTestGender = torch.from_numpy(np.array([sample[1:3] for sample in test_data], dtype= 'float32')).cuda()\n",
    "XTestSeq = torch.from_numpy(np.array([sample[3] for sample in test_data], dtype= 'float32')).cuda()\n",
    "XTest = [XTestGender, XTestSeq]\n",
    "YTest = torch.from_numpy(np.array([sample[0] for sample in test_data]))\n",
    "\n",
    "# XTest = torch.from_numpy(test_data[:,1:]).cuda()\n",
    "# YTest = torch.from_numpy(test_data[:,0])\n",
    "\n",
    "\n",
    "XValGender = np.array([sample[1:3] for sample in val_data], dtype= 'float32')\n",
    "XValSeq = np.array([sample[3] for sample in val_data], dtype= 'float32')\n",
    "XVal = [XValGender, XValSeq]\n",
    "YVal = np.array([sample[0] for sample in val_data])\n",
    "\n"
   ]
  },
  {
   "cell_type": "code",
   "execution_count": 82,
   "metadata": {},
   "outputs": [],
   "source": [
    "class sportDataset(td.Dataset):\n",
    "    def __init__(self, X, Y): # initialize\n",
    "        super(sportDataset, self).__init__() # initialize the superclass\n",
    "        self.X = X\n",
    "        self.Y = Y.astype('int64')\n",
    "    def __len__(self):\n",
    "        return len(self.Y) # return the size of dataset\n",
    "    def __getitem__(self, idx):\n",
    "        x = [self.X[0][idx], self.X[1][idx]] # do transformation\n",
    "        d = self.Y[idx] # get label\n",
    "        return x, d # return data and label\n",
    "    def number_of_classes(self):\n",
    "        return self.Y.max() + 1 # return the number of classes"
   ]
  },
  {
   "cell_type": "code",
   "execution_count": 83,
   "metadata": {},
   "outputs": [
    {
     "data": {
      "text/plain": [
       "800"
      ]
     },
     "execution_count": 83,
     "metadata": {},
     "output_type": "execute_result"
    }
   ],
   "source": [
    "train_set = sportDataset(XTrain, YTrain)\n",
    "train_loader = td.DataLoader(train_set, batch_size = 100, shuffle = True, pin_memory = True)\n",
    "len(train_loader)"
   ]
  },
  {
   "cell_type": "code",
   "execution_count": 84,
   "metadata": {},
   "outputs": [
    {
     "data": {
      "text/plain": [
       "100"
      ]
     },
     "execution_count": 84,
     "metadata": {},
     "output_type": "execute_result"
    }
   ],
   "source": [
    "val_set = sportDataset(XVal, YVal)\n",
    "val_loader = td.DataLoader(val_set, batch_size = 100, shuffle = False, pin_memory = True)\n",
    "len(val_loader)"
   ]
  },
  {
   "cell_type": "code",
   "execution_count": 23,
   "metadata": {},
   "outputs": [],
   "source": [
    "# test_set = sportDataset(XTest, YTest)\n",
    "# test_loader = td.DataLoader(test_set, batch_size = 100, shuffle = False, pin_memory = True)\n",
    "# len(test_loader)"
   ]
  },
  {
   "cell_type": "code",
   "execution_count": 79,
   "metadata": {},
   "outputs": [],
   "source": [
    "for inputs, labels in train_loader:\n",
    "    a = inputs\n",
    "    break\n",
    "    net.hidden = [item[:batch_size_t]for item in net.init_hidden()]"
   ]
  },
  {
   "cell_type": "code",
   "execution_count": 67,
   "metadata": {},
   "outputs": [
    {
     "data": {
      "text/plain": [
       "100"
      ]
     },
     "execution_count": 67,
     "metadata": {},
     "output_type": "execute_result"
    }
   ],
   "source": [
    "len(a)"
   ]
  },
  {
   "cell_type": "markdown",
   "metadata": {},
   "source": [
    "# 4. train model"
   ]
  },
  {
   "cell_type": "code",
   "execution_count": 110,
   "metadata": {},
   "outputs": [],
   "source": [
    "class LSTMClassifier(nn.Module):\n",
    "\n",
    "    def __init__(self, series_dim, hidden_dim, other_dim, output_size, batch_size, num_layers = 1, \\\n",
    "                     seq_len = 60, device = 'cuda'):\n",
    "        super(LSTMClassifier, self).__init__()\n",
    "        self.device = device\n",
    "        self.hidden_dim = hidden_dim\n",
    "        self.output_size = output_size\n",
    "        self.num_layers = num_layers\n",
    "        self.batch_size = batch_size\n",
    "        \n",
    "        self.lstm = nn.LSTM(series_dim, hidden_dim, num_layers)\n",
    "        self.hidden2label = nn.Linear(hidden_dim + other_dim, output_size)\n",
    "#         self.hidden = self.init_hidden()\n",
    "\n",
    "#     def init_hidden(self):\n",
    "#         return (torch.zeros(self.num_layers, self.batch_size, self.hidden_dim).cuda(),\n",
    "#                 torch.zeros(self.num_layers, self.batch_size, self.hidden_dim).cuda())\n",
    "\n",
    "    def forward(self, X):\n",
    "        x = X[1].permute(1,0,2)\n",
    "        lstm_out, self.hidden = self.lstm(x)\n",
    "#         print(lstm_out.shape) \n",
    "#         print(lstm_out[-1,:,:].shape) \n",
    "#         print(lstm_out.view(lstm_out.shape[1],-1).shape)\n",
    "        classifierInput = torch.cat((lstm_out[-1,:,:], X[0]),1)\n",
    "#         print(classifierInput.shape) \n",
    "        y  = self.hidden2label(classifierInput)\n",
    "        return y"
   ]
  },
  {
   "cell_type": "code",
   "execution_count": 111,
   "metadata": {},
   "outputs": [],
   "source": [
    "# LSTMmodel = LSTMClassifier(series_dim = XTrain[1].shape[2], hidden_dim = 50, other_dim = XTrain[0].shape[1], \\\n",
    "#                                output_size = len(UsedClass), batch_size = 100, seq_len = XTrain[1].shape[1])\\\n",
    "#                                 .to(device)"
   ]
  },
  {
   "cell_type": "code",
   "execution_count": 112,
   "metadata": {},
   "outputs": [],
   "source": [
    "# LSTMmodel([a[0].to(LSTMmodel.device), a[1].to(LSTMmodel.device)]).shape"
   ]
  },
  {
   "cell_type": "code",
   "execution_count": 117,
   "metadata": {},
   "outputs": [],
   "source": [
    "def backprop_deep(net, T, gamma=.001, rho=.9, weight = None, output_dir = None): \n",
    "    if weight is not None:\n",
    "        weight = weight.cuda()\n",
    "    criterion = nn.CrossEntropyLoss(weight)\n",
    "    optimizer = torch.optim.SGD(net.parameters(), lr=gamma, momentum=rho)\n",
    "    train_losses = []\n",
    "    train_accs = []\n",
    "    val_losses = []\n",
    "    val_accs = []\n",
    "    minVal_loss = float('inf')\n",
    "    minValCount = 0\n",
    "    \n",
    "    for epoch in range(T): \n",
    "        running_loss = 0.0 \n",
    "        train_loss = 0.0\n",
    "        train_correct = 0.0\n",
    "        net.train()\n",
    "        count = 0\n",
    "        for inputs, labels in train_loader:\n",
    "            batch_size_t = len(labels)\n",
    "            inputs, labels = [inputs[0].to(net.device), inputs[1].to(net.device)], labels.to(net.device)\n",
    "            # Initialize the gradients to zero\n",
    "            optimizer.zero_grad()\n",
    "#             net.hidden = [item[:batch_size_t] for item in net.init_hidden()]\n",
    "            # Forward propagation\n",
    "            outputs = net(inputs)\n",
    "            # Error evaluation\n",
    "            loss = criterion(outputs, labels)\n",
    "            # Back propagation\n",
    "            loss.backward()\n",
    "            # Parameter update\n",
    "            optimizer.step()\n",
    "            with torch.no_grad():\n",
    "                running_loss += loss.item() \n",
    "                train_loss += loss.item()\n",
    "                _, y_pred = outputs.max(-1)\n",
    "                correct = sum(y_pred == labels).item()\n",
    "                train_correct += correct\n",
    "            count += len(labels)\n",
    "            if (count // len(labels)) % 1000 == 0:\n",
    "                print('Iteration %d, count %d, running loss: %.3f' %\n",
    "                      (epoch + 1, count, running_loss))\n",
    "                running_loss = 0.0\n",
    "        train_losses.append(train_loss/8)\n",
    "        train_accs.append(train_correct/count*100)\n",
    "        print('Iteration %d, train loss: %.3f train acc : %.3f' % \\\n",
    "                  (epoch + 1, train_loss/8, train_correct/count*100))               \n",
    "                \n",
    "        ## validation   \n",
    "        val_loss = 0\n",
    "        val_correct = 0.0\n",
    "        val_count = 0.0\n",
    "        net.eval()\n",
    "        with torch.no_grad():\n",
    "            for inputs, labels in val_loader:\n",
    "                inputs, labels = [inputs[0].to(net.device), inputs[1].to(net.device)], labels.to(net.device)\n",
    "                # Initialize the gradients to zero\n",
    "                optimizer.zero_grad()\n",
    "                # Forward propagation\n",
    "                outputs = net(inputs)\n",
    "                # Error evaluation\n",
    "                loss = criterion(outputs, labels)\n",
    "                val_loss += loss.item() \n",
    "                _, y_pred = outputs.max(-1)\n",
    "                correct = sum(y_pred == labels).item()\n",
    "                val_correct += correct\n",
    "                val_count += len(labels)\n",
    "                \n",
    "        print('Iteration %d, validation loss: %.3f validation acc: %.3f' % \\\n",
    "                  (epoch + 1, val_loss, val_correct/val_count*100))\n",
    "        minValCount += 1\n",
    "        if val_loss < minVal_loss:\n",
    "            minVal_loss = val_loss\n",
    "            minValCount = 0\n",
    "            \n",
    "            if output_dir is None:\n",
    "                output_dir = 'checkpoint/LSTM/experiment_lstm{}'.format(time.time())\n",
    "            os.makedirs(output_dir, exist_ok=True)\n",
    "            checkpoint_path = os.path.join(output_dir, \"checkpoint.pth.tar\")\n",
    "            config_path = os.path.join(output_dir, \"config.txt\")\n",
    "            state_dict = {'Net': net.state_dict(), 'Optimizer': optimizer.state_dict()}\n",
    "            torch.save(state_dict, checkpoint_path)\n",
    "            with open(config_path, 'w') as f:\n",
    "                print(net, file=f)\n",
    "            \n",
    "            \n",
    "        val_losses.append(val_loss)\n",
    "        val_accs.append(val_correct/val_count*100)\n",
    "        if minValCount > 20:\n",
    "            break\n",
    "    checkpoint = torch.load(checkpoint_path, map_location=net.device)\n",
    "    net.load_state_dict(checkpoint['Net'])\n",
    "    print(\"Finish training for {} epochs\".format(T))\n",
    "    return train_losses, val_losses, train_accs, val_accs"
   ]
  },
  {
   "cell_type": "code",
   "execution_count": 141,
   "metadata": {
    "scrolled": false
   },
   "outputs": [],
   "source": [
    "LSTMmodel = LSTMClassifier(series_dim = XTrain[1].shape[2], hidden_dim = 50, other_dim = XTrain[0].shape[1], \\\n",
    "                               output_size = len(UsedClass), batch_size = 100, seq_len = XTrain[1].shape[1], \\\n",
    "                                num_layers = 2).to(device)"
   ]
  },
  {
   "cell_type": "code",
   "execution_count": 142,
   "metadata": {
    "scrolled": false
   },
   "outputs": [
    {
     "name": "stdout",
     "output_type": "stream",
     "text": [
      "Iteration 1, train loss: 105.600 train acc : 64.592\n",
      "Iteration 1, validation loss: 84.803 validation acc: 72.319\n",
      "Iteration 2, train loss: 72.339 train acc : 77.558\n",
      "Iteration 2, validation loss: 66.134 validation acc: 79.052\n",
      "Iteration 3, train loss: 66.254 train acc : 79.279\n",
      "Iteration 3, validation loss: 63.128 validation acc: 80.482\n",
      "Iteration 4, train loss: 64.263 train acc : 79.782\n",
      "Iteration 4, validation loss: 62.057 validation acc: 80.732\n",
      "Iteration 5, train loss: 63.005 train acc : 80.109\n",
      "Iteration 5, validation loss: 60.586 validation acc: 80.472\n",
      "Iteration 6, train loss: 61.943 train acc : 80.329\n",
      "Iteration 6, validation loss: 61.138 validation acc: 80.512\n",
      "Iteration 7, train loss: 60.718 train acc : 80.728\n",
      "Iteration 7, validation loss: 59.193 validation acc: 81.222\n",
      "Iteration 8, train loss: 60.549 train acc : 80.521\n",
      "Iteration 8, validation loss: 59.418 validation acc: 80.692\n",
      "Iteration 9, train loss: 59.811 train acc : 80.691\n",
      "Iteration 9, validation loss: 62.032 validation acc: 80.432\n",
      "Iteration 10, train loss: 58.424 train acc : 81.168\n",
      "Iteration 10, validation loss: 57.173 validation acc: 81.212\n",
      "Iteration 11, train loss: 57.572 train acc : 81.317\n",
      "Iteration 11, validation loss: 58.125 validation acc: 80.472\n",
      "Iteration 12, train loss: 69.147 train acc : 77.666\n",
      "Iteration 12, validation loss: 62.677 validation acc: 80.872\n",
      "Iteration 13, train loss: 61.930 train acc : 80.151\n",
      "Iteration 13, validation loss: 59.874 validation acc: 80.722\n",
      "Iteration 14, train loss: 59.728 train acc : 80.902\n",
      "Iteration 14, validation loss: 58.065 validation acc: 81.242\n",
      "Iteration 15, train loss: 58.572 train acc : 81.140\n",
      "Iteration 15, validation loss: 57.923 validation acc: 81.222\n",
      "Iteration 16, train loss: 57.642 train acc : 81.506\n",
      "Iteration 16, validation loss: 57.480 validation acc: 81.192\n",
      "Iteration 17, train loss: 57.089 train acc : 81.620\n",
      "Iteration 17, validation loss: 55.943 validation acc: 81.663\n",
      "Iteration 18, train loss: 56.472 train acc : 81.671\n",
      "Iteration 18, validation loss: 55.238 validation acc: 82.193\n",
      "Iteration 19, train loss: 56.119 train acc : 81.727\n",
      "Iteration 19, validation loss: 55.263 validation acc: 82.023\n",
      "Iteration 20, train loss: 55.815 train acc : 81.686\n",
      "Iteration 20, validation loss: 53.929 validation acc: 82.333\n",
      "Iteration 21, train loss: 54.778 train acc : 82.053\n",
      "Iteration 21, validation loss: 53.467 validation acc: 82.413\n",
      "Iteration 22, train loss: 54.567 train acc : 82.021\n",
      "Iteration 22, validation loss: 52.896 validation acc: 82.513\n",
      "Iteration 23, train loss: 53.772 train acc : 82.261\n",
      "Iteration 23, validation loss: 52.636 validation acc: 82.463\n",
      "Iteration 24, train loss: 53.214 train acc : 82.313\n",
      "Iteration 24, validation loss: 52.831 validation acc: 82.663\n",
      "Iteration 25, train loss: 52.930 train acc : 82.374\n",
      "Iteration 25, validation loss: 50.891 validation acc: 83.073\n",
      "Iteration 26, train loss: 51.986 train acc : 82.583\n",
      "Iteration 26, validation loss: 52.483 validation acc: 82.493\n",
      "Iteration 27, train loss: 51.073 train acc : 82.794\n",
      "Iteration 27, validation loss: 49.166 validation acc: 83.213\n",
      "Iteration 28, train loss: 50.836 train acc : 82.817\n",
      "Iteration 28, validation loss: 48.473 validation acc: 83.573\n",
      "Iteration 29, train loss: 50.197 train acc : 83.076\n",
      "Iteration 29, validation loss: 48.152 validation acc: 83.613\n",
      "Iteration 30, train loss: 49.447 train acc : 83.294\n",
      "Iteration 30, validation loss: 48.592 validation acc: 83.844\n",
      "Iteration 31, train loss: 49.005 train acc : 83.344\n",
      "Iteration 31, validation loss: 49.826 validation acc: 83.043\n",
      "Iteration 32, train loss: 48.492 train acc : 83.522\n",
      "Iteration 32, validation loss: 49.249 validation acc: 83.193\n",
      "Iteration 33, train loss: 47.808 train acc : 83.733\n",
      "Iteration 33, validation loss: 47.576 validation acc: 83.263\n",
      "Iteration 34, train loss: 47.569 train acc : 83.692\n",
      "Iteration 34, validation loss: 45.761 validation acc: 84.044\n",
      "Iteration 35, train loss: 47.288 train acc : 83.788\n",
      "Iteration 35, validation loss: 66.883 validation acc: 76.000\n",
      "Iteration 36, train loss: 47.448 train acc : 83.728\n",
      "Iteration 36, validation loss: 45.589 validation acc: 84.154\n",
      "Iteration 37, train loss: 46.629 train acc : 83.896\n",
      "Iteration 37, validation loss: 47.396 validation acc: 83.403\n",
      "Iteration 38, train loss: 46.573 train acc : 83.796\n",
      "Iteration 38, validation loss: 49.502 validation acc: 83.553\n",
      "Iteration 39, train loss: 46.334 train acc : 83.990\n",
      "Iteration 39, validation loss: 45.936 validation acc: 83.844\n",
      "Iteration 40, train loss: 45.526 train acc : 84.267\n",
      "Iteration 40, validation loss: 44.381 validation acc: 84.604\n",
      "Iteration 41, train loss: 45.291 train acc : 84.354\n",
      "Iteration 41, validation loss: 46.557 validation acc: 83.864\n",
      "Iteration 42, train loss: 45.429 train acc : 84.208\n",
      "Iteration 42, validation loss: 44.432 validation acc: 84.664\n",
      "Iteration 43, train loss: 44.863 train acc : 84.412\n",
      "Iteration 43, validation loss: 44.216 validation acc: 84.864\n",
      "Iteration 44, train loss: 44.590 train acc : 84.504\n",
      "Iteration 44, validation loss: 44.166 validation acc: 84.814\n",
      "Iteration 45, train loss: 44.390 train acc : 84.642\n",
      "Iteration 45, validation loss: 44.589 validation acc: 84.304\n",
      "Iteration 46, train loss: 44.032 train acc : 84.759\n",
      "Iteration 46, validation loss: 42.597 validation acc: 85.244\n",
      "Iteration 47, train loss: 43.726 train acc : 84.812\n",
      "Iteration 47, validation loss: 44.293 validation acc: 84.434\n",
      "Iteration 48, train loss: 44.005 train acc : 84.817\n",
      "Iteration 48, validation loss: 42.541 validation acc: 85.174\n",
      "Iteration 49, train loss: 44.890 train acc : 84.706\n",
      "Iteration 49, validation loss: 46.417 validation acc: 83.794\n",
      "Iteration 50, train loss: 43.600 train acc : 84.873\n",
      "Iteration 50, validation loss: 42.289 validation acc: 85.124\n",
      "Iteration 51, train loss: 43.295 train acc : 84.983\n",
      "Iteration 51, validation loss: 42.752 validation acc: 85.264\n",
      "Iteration 52, train loss: 42.899 train acc : 85.128\n",
      "Iteration 52, validation loss: 42.491 validation acc: 85.064\n",
      "Iteration 53, train loss: 42.549 train acc : 85.233\n",
      "Iteration 53, validation loss: 43.335 validation acc: 84.874\n",
      "Iteration 54, train loss: 42.554 train acc : 85.261\n",
      "Iteration 54, validation loss: 42.158 validation acc: 85.364\n",
      "Iteration 55, train loss: 42.625 train acc : 85.258\n",
      "Iteration 55, validation loss: 44.557 validation acc: 84.464\n",
      "Iteration 56, train loss: 42.295 train acc : 85.363\n",
      "Iteration 56, validation loss: 41.729 validation acc: 85.714\n",
      "Iteration 57, train loss: 41.892 train acc : 85.508\n",
      "Iteration 57, validation loss: 41.953 validation acc: 85.104\n",
      "Iteration 58, train loss: 41.869 train acc : 85.350\n",
      "Iteration 58, validation loss: 41.238 validation acc: 86.104\n",
      "Iteration 59, train loss: 41.879 train acc : 85.518\n",
      "Iteration 59, validation loss: 43.602 validation acc: 84.954\n",
      "Iteration 60, train loss: 41.430 train acc : 85.692\n",
      "Iteration 60, validation loss: 43.819 validation acc: 85.144\n",
      "Iteration 61, train loss: 42.199 train acc : 85.413\n",
      "Iteration 61, validation loss: 41.778 validation acc: 85.484\n",
      "Iteration 62, train loss: 41.813 train acc : 85.395\n",
      "Iteration 62, validation loss: 41.422 validation acc: 85.294\n",
      "Iteration 63, train loss: 41.784 train acc : 85.375\n",
      "Iteration 63, validation loss: 43.193 validation acc: 84.664\n",
      "Iteration 64, train loss: 41.470 train acc : 85.572\n",
      "Iteration 64, validation loss: 43.116 validation acc: 84.634\n",
      "Iteration 65, train loss: 42.521 train acc : 85.285\n",
      "Iteration 65, validation loss: 41.989 validation acc: 85.594\n",
      "Iteration 66, train loss: 41.656 train acc : 85.434\n",
      "Iteration 66, validation loss: 41.340 validation acc: 85.714\n",
      "Iteration 67, train loss: 41.241 train acc : 85.605\n",
      "Iteration 67, validation loss: 41.473 validation acc: 85.214\n",
      "Iteration 68, train loss: 41.006 train acc : 85.685\n",
      "Iteration 68, validation loss: 40.215 validation acc: 85.754\n",
      "Iteration 69, train loss: 41.308 train acc : 85.598\n",
      "Iteration 69, validation loss: 40.669 validation acc: 85.684\n",
      "Iteration 70, train loss: 41.123 train acc : 85.660\n",
      "Iteration 70, validation loss: 40.227 validation acc: 85.864\n",
      "Iteration 71, train loss: 40.693 train acc : 85.804\n",
      "Iteration 71, validation loss: 42.027 validation acc: 84.894\n",
      "Iteration 72, train loss: 40.365 train acc : 85.802\n",
      "Iteration 72, validation loss: 40.270 validation acc: 85.894\n",
      "Iteration 73, train loss: 40.678 train acc : 85.803\n",
      "Iteration 73, validation loss: 40.778 validation acc: 85.584\n"
     ]
    },
    {
     "name": "stdout",
     "output_type": "stream",
     "text": [
      "Iteration 74, train loss: 40.273 train acc : 85.930\n",
      "Iteration 74, validation loss: 39.420 validation acc: 86.385\n",
      "Iteration 75, train loss: 40.083 train acc : 86.010\n",
      "Iteration 75, validation loss: 39.768 validation acc: 86.335\n",
      "Iteration 76, train loss: 40.065 train acc : 86.052\n",
      "Iteration 76, validation loss: 39.526 validation acc: 86.064\n",
      "Iteration 77, train loss: 39.799 train acc : 86.063\n",
      "Iteration 77, validation loss: 39.009 validation acc: 86.445\n",
      "Iteration 78, train loss: 39.942 train acc : 86.053\n",
      "Iteration 78, validation loss: 40.097 validation acc: 85.814\n",
      "Iteration 79, train loss: 40.054 train acc : 85.992\n",
      "Iteration 79, validation loss: 39.754 validation acc: 85.914\n",
      "Iteration 80, train loss: 39.965 train acc : 85.975\n",
      "Iteration 80, validation loss: 39.742 validation acc: 86.124\n",
      "Iteration 81, train loss: 39.515 train acc : 86.181\n",
      "Iteration 81, validation loss: 41.332 validation acc: 85.394\n",
      "Iteration 82, train loss: 39.656 train acc : 86.082\n",
      "Iteration 82, validation loss: 38.674 validation acc: 86.255\n",
      "Iteration 83, train loss: 39.211 train acc : 86.279\n",
      "Iteration 83, validation loss: 39.752 validation acc: 86.004\n",
      "Iteration 84, train loss: 38.874 train acc : 86.367\n",
      "Iteration 84, validation loss: 39.400 validation acc: 86.255\n",
      "Iteration 85, train loss: 39.256 train acc : 86.181\n",
      "Iteration 85, validation loss: 39.209 validation acc: 85.974\n",
      "Iteration 86, train loss: 38.988 train acc : 86.301\n",
      "Iteration 86, validation loss: 40.251 validation acc: 85.384\n",
      "Iteration 87, train loss: 39.317 train acc : 86.217\n",
      "Iteration 87, validation loss: 38.578 validation acc: 86.325\n",
      "Iteration 88, train loss: 38.886 train acc : 86.386\n",
      "Iteration 88, validation loss: 40.057 validation acc: 85.934\n",
      "Iteration 89, train loss: 38.553 train acc : 86.441\n",
      "Iteration 89, validation loss: 38.631 validation acc: 86.375\n",
      "Iteration 90, train loss: 38.467 train acc : 86.468\n",
      "Iteration 90, validation loss: 39.204 validation acc: 86.164\n",
      "Iteration 91, train loss: 38.598 train acc : 86.437\n",
      "Iteration 91, validation loss: 38.332 validation acc: 86.675\n",
      "Iteration 92, train loss: 38.532 train acc : 86.426\n",
      "Iteration 92, validation loss: 39.073 validation acc: 86.114\n",
      "Iteration 93, train loss: 38.234 train acc : 86.531\n",
      "Iteration 93, validation loss: 39.047 validation acc: 86.104\n",
      "Iteration 94, train loss: 38.096 train acc : 86.563\n",
      "Iteration 94, validation loss: 38.307 validation acc: 86.495\n",
      "Iteration 95, train loss: 38.128 train acc : 86.681\n",
      "Iteration 95, validation loss: 38.670 validation acc: 86.385\n",
      "Iteration 96, train loss: 37.872 train acc : 86.687\n",
      "Iteration 96, validation loss: 39.263 validation acc: 86.445\n",
      "Iteration 97, train loss: 37.946 train acc : 86.596\n",
      "Iteration 97, validation loss: 38.395 validation acc: 86.445\n",
      "Iteration 98, train loss: 37.998 train acc : 86.631\n",
      "Iteration 98, validation loss: 38.345 validation acc: 86.475\n",
      "Iteration 99, train loss: 37.773 train acc : 86.692\n",
      "Iteration 99, validation loss: 37.476 validation acc: 86.705\n",
      "Iteration 100, train loss: 37.417 train acc : 86.771\n",
      "Iteration 100, validation loss: 40.824 validation acc: 85.604\n",
      "Iteration 101, train loss: 37.796 train acc : 86.753\n",
      "Iteration 101, validation loss: 38.462 validation acc: 86.405\n",
      "Iteration 102, train loss: 37.572 train acc : 86.778\n",
      "Iteration 102, validation loss: 39.201 validation acc: 86.144\n",
      "Iteration 103, train loss: 37.611 train acc : 86.801\n",
      "Iteration 103, validation loss: 37.981 validation acc: 86.575\n",
      "Iteration 104, train loss: 37.532 train acc : 86.825\n",
      "Iteration 104, validation loss: 39.613 validation acc: 85.944\n",
      "Iteration 105, train loss: 37.351 train acc : 86.816\n",
      "Iteration 105, validation loss: 39.128 validation acc: 86.164\n",
      "Iteration 106, train loss: 37.531 train acc : 86.762\n",
      "Iteration 106, validation loss: 37.756 validation acc: 86.595\n",
      "Iteration 107, train loss: 37.117 train acc : 86.920\n",
      "Iteration 107, validation loss: 38.475 validation acc: 86.214\n",
      "Iteration 108, train loss: 37.308 train acc : 86.861\n",
      "Iteration 108, validation loss: 38.144 validation acc: 86.675\n",
      "Iteration 109, train loss: 37.717 train acc : 86.783\n",
      "Iteration 109, validation loss: 40.634 validation acc: 85.624\n",
      "Iteration 110, train loss: 37.367 train acc : 86.775\n",
      "Iteration 110, validation loss: 37.947 validation acc: 86.545\n",
      "Iteration 111, train loss: 37.180 train acc : 86.961\n",
      "Iteration 111, validation loss: 37.158 validation acc: 86.855\n",
      "Iteration 112, train loss: 37.051 train acc : 87.000\n",
      "Iteration 112, validation loss: 37.944 validation acc: 86.535\n",
      "Iteration 113, train loss: 37.091 train acc : 86.946\n",
      "Iteration 113, validation loss: 37.804 validation acc: 86.565\n",
      "Iteration 114, train loss: 36.941 train acc : 86.976\n",
      "Iteration 114, validation loss: 37.399 validation acc: 87.015\n",
      "Iteration 115, train loss: 36.893 train acc : 87.007\n",
      "Iteration 115, validation loss: 37.902 validation acc: 86.435\n",
      "Iteration 116, train loss: 36.661 train acc : 87.100\n",
      "Iteration 116, validation loss: 38.433 validation acc: 86.615\n",
      "Iteration 117, train loss: 36.795 train acc : 87.102\n",
      "Iteration 117, validation loss: 37.922 validation acc: 86.755\n",
      "Iteration 118, train loss: 36.823 train acc : 87.058\n",
      "Iteration 118, validation loss: 39.413 validation acc: 86.024\n",
      "Iteration 119, train loss: 36.690 train acc : 87.058\n",
      "Iteration 119, validation loss: 36.834 validation acc: 86.995\n",
      "Iteration 120, train loss: 36.684 train acc : 87.045\n",
      "Iteration 120, validation loss: 38.756 validation acc: 86.174\n",
      "Iteration 121, train loss: 36.824 train acc : 87.015\n",
      "Iteration 121, validation loss: 37.480 validation acc: 86.265\n",
      "Iteration 122, train loss: 36.783 train acc : 87.042\n",
      "Iteration 122, validation loss: 38.118 validation acc: 86.295\n",
      "Iteration 123, train loss: 36.617 train acc : 87.112\n",
      "Iteration 123, validation loss: 36.621 validation acc: 86.785\n",
      "Iteration 124, train loss: 36.442 train acc : 87.136\n",
      "Iteration 124, validation loss: 36.410 validation acc: 87.205\n",
      "Iteration 125, train loss: 36.085 train acc : 87.337\n",
      "Iteration 125, validation loss: 37.302 validation acc: 86.575\n",
      "Iteration 126, train loss: 36.651 train acc : 87.142\n",
      "Iteration 126, validation loss: 38.379 validation acc: 86.635\n",
      "Iteration 127, train loss: 36.377 train acc : 87.262\n",
      "Iteration 127, validation loss: 37.876 validation acc: 86.595\n",
      "Iteration 128, train loss: 36.163 train acc : 87.173\n",
      "Iteration 128, validation loss: 36.836 validation acc: 86.825\n",
      "Iteration 129, train loss: 36.340 train acc : 87.201\n",
      "Iteration 129, validation loss: 38.257 validation acc: 86.445\n",
      "Iteration 130, train loss: 36.168 train acc : 87.233\n",
      "Iteration 130, validation loss: 36.619 validation acc: 87.195\n",
      "Iteration 131, train loss: 35.862 train acc : 87.294\n",
      "Iteration 131, validation loss: 36.749 validation acc: 86.925\n",
      "Iteration 132, train loss: 36.139 train acc : 87.267\n",
      "Iteration 132, validation loss: 37.700 validation acc: 86.645\n",
      "Iteration 133, train loss: 35.775 train acc : 87.397\n",
      "Iteration 133, validation loss: 36.254 validation acc: 87.145\n",
      "Iteration 134, train loss: 35.793 train acc : 87.327\n",
      "Iteration 134, validation loss: 37.173 validation acc: 86.855\n",
      "Iteration 135, train loss: 35.769 train acc : 87.356\n",
      "Iteration 135, validation loss: 37.121 validation acc: 86.595\n",
      "Iteration 136, train loss: 35.508 train acc : 87.437\n",
      "Iteration 136, validation loss: 36.234 validation acc: 87.115\n",
      "Iteration 137, train loss: 35.463 train acc : 87.414\n",
      "Iteration 137, validation loss: 36.069 validation acc: 87.065\n",
      "Iteration 138, train loss: 35.405 train acc : 87.409\n",
      "Iteration 138, validation loss: 35.648 validation acc: 87.395\n",
      "Iteration 139, train loss: 35.350 train acc : 87.464\n",
      "Iteration 139, validation loss: 37.578 validation acc: 86.755\n",
      "Iteration 140, train loss: 35.393 train acc : 87.535\n",
      "Iteration 140, validation loss: 38.133 validation acc: 86.315\n",
      "Iteration 141, train loss: 35.438 train acc : 87.542\n",
      "Iteration 141, validation loss: 36.009 validation acc: 87.145\n",
      "Iteration 142, train loss: 35.350 train acc : 87.537\n",
      "Iteration 142, validation loss: 35.874 validation acc: 87.285\n",
      "Iteration 143, train loss: 35.454 train acc : 87.487\n",
      "Iteration 143, validation loss: 36.632 validation acc: 86.995\n",
      "Iteration 144, train loss: 35.246 train acc : 87.591\n",
      "Iteration 144, validation loss: 36.750 validation acc: 87.145\n",
      "Iteration 145, train loss: 35.119 train acc : 87.617\n",
      "Iteration 145, validation loss: 36.395 validation acc: 86.905\n"
     ]
    },
    {
     "name": "stdout",
     "output_type": "stream",
     "text": [
      "Iteration 146, train loss: 35.044 train acc : 87.692\n",
      "Iteration 146, validation loss: 36.408 validation acc: 87.085\n",
      "Iteration 147, train loss: 34.997 train acc : 87.584\n",
      "Iteration 147, validation loss: 35.836 validation acc: 87.075\n",
      "Iteration 148, train loss: 34.966 train acc : 87.671\n",
      "Iteration 148, validation loss: 35.901 validation acc: 87.095\n",
      "Iteration 149, train loss: 34.983 train acc : 87.559\n",
      "Iteration 149, validation loss: 36.926 validation acc: 86.845\n",
      "Iteration 150, train loss: 35.133 train acc : 87.595\n",
      "Iteration 150, validation loss: 36.628 validation acc: 86.785\n",
      "Iteration 151, train loss: 34.950 train acc : 87.595\n",
      "Iteration 151, validation loss: 36.495 validation acc: 87.125\n",
      "Iteration 152, train loss: 35.106 train acc : 87.610\n",
      "Iteration 152, validation loss: 36.762 validation acc: 87.155\n",
      "Iteration 153, train loss: 34.872 train acc : 87.671\n",
      "Iteration 153, validation loss: 36.887 validation acc: 87.115\n",
      "Iteration 154, train loss: 34.812 train acc : 87.621\n",
      "Iteration 154, validation loss: 35.941 validation acc: 87.235\n",
      "Iteration 155, train loss: 34.362 train acc : 87.766\n",
      "Iteration 155, validation loss: 35.688 validation acc: 87.585\n",
      "Iteration 156, train loss: 34.562 train acc : 87.761\n",
      "Iteration 156, validation loss: 36.148 validation acc: 87.155\n",
      "Iteration 157, train loss: 34.689 train acc : 87.717\n",
      "Iteration 157, validation loss: 35.864 validation acc: 87.165\n",
      "Iteration 158, train loss: 34.537 train acc : 87.830\n",
      "Iteration 158, validation loss: 35.546 validation acc: 87.335\n",
      "Iteration 159, train loss: 34.659 train acc : 87.736\n",
      "Iteration 159, validation loss: 35.746 validation acc: 87.235\n",
      "Iteration 160, train loss: 34.298 train acc : 87.851\n",
      "Iteration 160, validation loss: 35.660 validation acc: 87.005\n",
      "Iteration 161, train loss: 34.351 train acc : 87.845\n",
      "Iteration 161, validation loss: 36.147 validation acc: 87.305\n",
      "Iteration 162, train loss: 34.562 train acc : 87.799\n",
      "Iteration 162, validation loss: 36.492 validation acc: 87.105\n",
      "Iteration 163, train loss: 34.500 train acc : 87.846\n",
      "Iteration 163, validation loss: 35.285 validation acc: 87.415\n",
      "Iteration 164, train loss: 34.510 train acc : 87.716\n",
      "Iteration 164, validation loss: 36.996 validation acc: 86.625\n",
      "Iteration 165, train loss: 34.679 train acc : 87.695\n",
      "Iteration 165, validation loss: 36.926 validation acc: 87.075\n",
      "Iteration 166, train loss: 34.797 train acc : 87.590\n",
      "Iteration 166, validation loss: 35.711 validation acc: 87.265\n",
      "Iteration 167, train loss: 34.560 train acc : 87.795\n",
      "Iteration 167, validation loss: 36.006 validation acc: 87.145\n",
      "Iteration 168, train loss: 34.226 train acc : 87.835\n",
      "Iteration 168, validation loss: 35.372 validation acc: 87.555\n",
      "Iteration 169, train loss: 34.057 train acc : 87.946\n",
      "Iteration 169, validation loss: 35.577 validation acc: 87.295\n",
      "Iteration 170, train loss: 33.972 train acc : 88.035\n",
      "Iteration 170, validation loss: 36.226 validation acc: 86.925\n",
      "Iteration 171, train loss: 34.239 train acc : 88.000\n",
      "Iteration 171, validation loss: 35.361 validation acc: 87.345\n",
      "Iteration 172, train loss: 34.688 train acc : 87.720\n",
      "Iteration 172, validation loss: 35.275 validation acc: 87.585\n",
      "Iteration 173, train loss: 33.971 train acc : 87.989\n",
      "Iteration 173, validation loss: 35.431 validation acc: 87.515\n",
      "Iteration 174, train loss: 33.719 train acc : 88.114\n",
      "Iteration 174, validation loss: 35.372 validation acc: 87.475\n",
      "Iteration 175, train loss: 33.838 train acc : 88.001\n",
      "Iteration 175, validation loss: 35.494 validation acc: 87.375\n",
      "Iteration 176, train loss: 33.782 train acc : 88.049\n",
      "Iteration 176, validation loss: 34.693 validation acc: 87.735\n",
      "Iteration 177, train loss: 33.689 train acc : 88.064\n",
      "Iteration 177, validation loss: 37.251 validation acc: 87.065\n",
      "Iteration 178, train loss: 33.844 train acc : 87.989\n",
      "Iteration 178, validation loss: 34.651 validation acc: 87.575\n",
      "Iteration 179, train loss: 33.439 train acc : 88.188\n",
      "Iteration 179, validation loss: 34.277 validation acc: 87.625\n",
      "Iteration 180, train loss: 33.655 train acc : 88.025\n",
      "Iteration 180, validation loss: 35.782 validation acc: 87.385\n",
      "Iteration 181, train loss: 33.662 train acc : 88.075\n",
      "Iteration 181, validation loss: 35.616 validation acc: 87.315\n",
      "Iteration 182, train loss: 33.796 train acc : 88.014\n",
      "Iteration 182, validation loss: 35.277 validation acc: 87.515\n",
      "Iteration 183, train loss: 34.528 train acc : 87.881\n",
      "Iteration 183, validation loss: 35.676 validation acc: 87.495\n",
      "Iteration 184, train loss: 34.147 train acc : 87.916\n",
      "Iteration 184, validation loss: 35.591 validation acc: 87.315\n",
      "Iteration 185, train loss: 33.754 train acc : 88.116\n",
      "Iteration 185, validation loss: 35.477 validation acc: 87.325\n",
      "Iteration 186, train loss: 33.849 train acc : 88.068\n",
      "Iteration 186, validation loss: 36.311 validation acc: 87.045\n",
      "Iteration 187, train loss: 33.486 train acc : 88.145\n",
      "Iteration 187, validation loss: 34.660 validation acc: 87.605\n",
      "Iteration 188, train loss: 33.615 train acc : 88.131\n",
      "Iteration 188, validation loss: 35.240 validation acc: 87.415\n",
      "Iteration 189, train loss: 33.980 train acc : 87.973\n",
      "Iteration 189, validation loss: 36.447 validation acc: 87.195\n",
      "Iteration 190, train loss: 33.763 train acc : 88.120\n",
      "Iteration 190, validation loss: 34.960 validation acc: 87.755\n",
      "Iteration 191, train loss: 33.544 train acc : 88.169\n",
      "Iteration 191, validation loss: 36.209 validation acc: 87.475\n",
      "Iteration 192, train loss: 34.935 train acc : 87.772\n",
      "Iteration 192, validation loss: 36.842 validation acc: 87.065\n",
      "Iteration 193, train loss: 34.680 train acc : 87.706\n",
      "Iteration 193, validation loss: 36.223 validation acc: 87.105\n",
      "Iteration 194, train loss: 34.422 train acc : 87.832\n",
      "Iteration 194, validation loss: 36.105 validation acc: 87.125\n",
      "Iteration 195, train loss: 34.029 train acc : 87.994\n",
      "Iteration 195, validation loss: 35.594 validation acc: 87.325\n",
      "Iteration 196, train loss: 33.947 train acc : 88.044\n",
      "Iteration 196, validation loss: 35.611 validation acc: 87.445\n",
      "Iteration 197, train loss: 33.999 train acc : 87.968\n",
      "Iteration 197, validation loss: 37.422 validation acc: 87.035\n",
      "Iteration 198, train loss: 33.944 train acc : 87.991\n",
      "Iteration 198, validation loss: 36.094 validation acc: 86.965\n",
      "Iteration 199, train loss: 33.660 train acc : 88.121\n",
      "Iteration 199, validation loss: 35.312 validation acc: 87.485\n",
      "Iteration 200, train loss: 33.700 train acc : 88.006\n",
      "Iteration 200, validation loss: 36.083 validation acc: 87.035\n",
      "Finish training for 500 epochs\n"
     ]
    }
   ],
   "source": [
    "epochs = 500\n",
    "train_losses, val_losses, train_accs, val_accs = backprop_deep(LSTMmodel, T=epochs, weight = None)"
   ]
  },
  {
   "cell_type": "code",
   "execution_count": 143,
   "metadata": {},
   "outputs": [
    {
     "data": {
      "text/plain": [
       "<matplotlib.legend.Legend at 0x7f4706a88a90>"
      ]
     },
     "execution_count": 143,
     "metadata": {},
     "output_type": "execute_result"
    },
    {
     "data": {
      "image/png": "[encoded data removed]",
      "text/plain": [
       "<Figure size 1296x432 with 2 Axes>"
      ]
     },
     "metadata": {
      "needs_background": "light"
     },
     "output_type": "display_data"
    }
   ],
   "source": [
    "final_epochs = len(train_losses)\n",
    "fig, axes = plt.subplots(ncols=2, figsize=(18, 6))\n",
    "\n",
    "axes[0].plot(range(final_epochs), train_losses, label = 'train loss')\n",
    "axes[0].plot(range(final_epochs), val_losses, label = 'val loss')\n",
    "axes[0].set_xlabel('Epoch') \n",
    "axes[0].set_ylabel('Loss')\n",
    "axes[0].legend()\n",
    "\n",
    "axes[1].plot(range(final_epochs), train_accs, label = 'train acc')\n",
    "axes[1].plot(range(final_epochs), val_accs, label = 'val acc')\n",
    "axes[1].set_xlabel('Epoch') \n",
    "axes[1].set_ylabel('Acc')\n",
    "axes[1].legend()"
   ]
  },
  {
   "cell_type": "markdown",
   "metadata": {},
   "source": [
    "# 5. test model"
   ]
  },
  {
   "cell_type": "code",
   "execution_count": 144,
   "metadata": {},
   "outputs": [],
   "source": [
    "from sklearn.metrics import classification_report, confusion_matrix, accuracy_score\n",
    "def testModel(xtest, ytest, net): \n",
    "    net.eval()\n",
    "    with torch.no_grad():\n",
    "        outputs = net(xtest).cpu()\n",
    "    y_val = np.argmax(outputs, axis=1)   \n",
    "    print(confusion_matrix(ytest,y_val))\n",
    "    print(classification_report(ytest,y_val))\n",
    "    print(accuracy_score(ytest, y_val))\n",
    "# def testModel(xtest, ytest, net): \n",
    "#     net.eval()\n",
    "#     with torch.no_grad():\n",
    "#         outputs = net(xtest)\n",
    "#     _, y_val = outputs.max(-1)\n",
    "#     correct = sum(y_val == ytest).item()\n",
    "#     acc =  correct / len(y_val) * 100\n",
    "#     return acc, correct"
   ]
  },
  {
   "cell_type": "code",
   "execution_count": 145,
   "metadata": {},
   "outputs": [
    {
     "name": "stdout",
     "output_type": "stream",
     "text": [
      "[[4454  133  170   46    8]\n",
      " [ 190 3731   29    7    2]\n",
      " [ 382   71  331   13    0]\n",
      " [ 104    9   11  161    0]\n",
      " [ 101    3    0    0   40]]\n",
      "              precision    recall  f1-score   support\n",
      "\n",
      "           0       0.85      0.93      0.89      4811\n",
      "           1       0.95      0.94      0.94      3959\n",
      "           2       0.61      0.42      0.49       797\n",
      "           3       0.71      0.56      0.63       285\n",
      "           4       0.80      0.28      0.41       144\n",
      "\n",
      "   micro avg       0.87      0.87      0.87      9996\n",
      "   macro avg       0.78      0.63      0.67      9996\n",
      "weighted avg       0.86      0.87      0.86      9996\n",
      "\n",
      "0.8720488195278111\n"
     ]
    }
   ],
   "source": [
    "testModel(XTest, YTest, LSTMmodel)"
   ]
  },
  {
   "cell_type": "code",
   "execution_count": null,
   "metadata": {},
   "outputs": [],
   "source": []
  }
 ],
 "metadata": {
  "kernelspec": {
   "display_name": "Python 3",
   "language": "python",
   "name": "python3"
  },
  "language_info": {
   "codemirror_mode": {
    "name": "ipython",
    "version": 3
   },
   "file_extension": ".py",
   "mimetype": "text/x-python",
   "name": "python",
   "nbconvert_exporter": "python",
   "pygments_lexer": "ipython3",
   "version": "3.6.8"
  }
 },
 "nbformat": 4,
 "nbformat_minor": 2
}
