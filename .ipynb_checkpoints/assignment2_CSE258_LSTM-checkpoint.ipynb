{
 "cells": [
  {
   "cell_type": "code",
   "execution_count": 1,
   "metadata": {},
   "outputs": [],
   "source": [
    "import os\n",
    "import time\n",
    "import numpy as np\n",
    "import matplotlib.pyplot as plt\n",
    "from sklearn.model_selection import train_test_split\n",
    "from collections import defaultdict\n",
    "import torch\n",
    "from torch import nn\n",
    "from torch.nn import functional as F\n",
    "import torch.utils.data as td\n",
    "import torchvision as tv\n",
    "import pandas as pd"
   ]
  },
  {
   "cell_type": "code",
   "execution_count": 2,
   "metadata": {},
   "outputs": [
    {
     "name": "stdout",
     "output_type": "stream",
     "text": [
      "cuda\n"
     ]
    }
   ],
   "source": [
    "device = 'cuda' if torch.cuda.is_available() else 'cpu' \n",
    "print(device)"
   ]
  },
  {
   "cell_type": "markdown",
   "metadata": {},
   "source": [
    "# 1. Load data"
   ]
  },
  {
   "cell_type": "code",
   "execution_count": 3,
   "metadata": {},
   "outputs": [],
   "source": [
    "# alldata = np.load('processed_endomondoHR_proper_interpolate.npy', allow_pickle=True)"
   ]
  },
  {
   "cell_type": "code",
   "execution_count": 4,
   "metadata": {},
   "outputs": [],
   "source": [
    "alldata = []\n",
    "for i in range(10 + 1):\n",
    "    alldata.extend(np.load('subDataset/processedData{}.npy'.format(i), allow_pickle=True))"
   ]
  },
  {
   "cell_type": "code",
   "execution_count": 5,
   "metadata": {},
   "outputs": [
    {
     "data": {
      "text/plain": [
       "102992"
      ]
     },
     "execution_count": 5,
     "metadata": {},
     "output_type": "execute_result"
    }
   ],
   "source": [
    "len(alldata)"
   ]
  },
  {
   "cell_type": "markdown",
   "metadata": {},
   "source": [
    "# 2. data analysis"
   ]
  },
  {
   "cell_type": "code",
   "execution_count": 6,
   "metadata": {},
   "outputs": [],
   "source": [
    "countType = defaultdict(int)"
   ]
  },
  {
   "cell_type": "code",
   "execution_count": 7,
   "metadata": {},
   "outputs": [],
   "source": [
    "for sample in alldata:\n",
    "    countType[sample['sport']] += 1"
   ]
  },
  {
   "cell_type": "code",
   "execution_count": 8,
   "metadata": {},
   "outputs": [],
   "source": [
    "countType = sorted(countType.items(), key = lambda x: -x[1])"
   ]
  },
  {
   "cell_type": "code",
   "execution_count": 9,
   "metadata": {
    "scrolled": false
   },
   "outputs": [],
   "source": [
    "name = []\n",
    "counts = []\n",
    "for k,v in countType:\n",
    "    name.append(k)\n",
    "    counts.append(v)"
   ]
  },
  {
   "cell_type": "code",
   "execution_count": 10,
   "metadata": {},
   "outputs": [
    {
     "data": {
      "text/plain": [
       "[('bike', 48493),\n",
       " ('run', 39201),\n",
       " ('mountain bike', 7711),\n",
       " ('bike (transport)', 3234),\n",
       " ('indoor cycling', 1320),\n",
       " ('cross-country skiing', 630),\n",
       " ('walk', 618),\n",
       " ('orienteering', 553),\n",
       " ('core stability training', 258),\n",
       " ('hiking', 193),\n",
       " ('fitness walking', 186),\n",
       " ('roller skiing', 158),\n",
       " ('skate', 124),\n",
       " ('kayaking', 60),\n",
       " ('circuit training', 53),\n",
       " ('rowing', 46),\n",
       " ('weight training', 31),\n",
       " ('downhill skiing', 24),\n",
       " ('soccer', 21),\n",
       " ('snowshoeing', 15),\n",
       " ('golf', 11),\n",
       " ('horseback riding', 7),\n",
       " ('tennis', 5),\n",
       " ('treadmill running', 5),\n",
       " ('badminton', 5),\n",
       " ('climbing', 5),\n",
       " ('basketball', 4),\n",
       " ('swimming', 4),\n",
       " ('table tennis', 3),\n",
       " ('rugby', 3),\n",
       " ('snowboarding', 2),\n",
       " ('elliptical', 2),\n",
       " ('gymnastics', 1),\n",
       " ('aerobics', 1),\n",
       " ('sailing', 1),\n",
       " ('kite surfing', 1),\n",
       " ('squash', 1),\n",
       " ('stair climing', 1),\n",
       " ('martial arts', 1)]"
      ]
     },
     "execution_count": 10,
     "metadata": {},
     "output_type": "execute_result"
    }
   ],
   "source": [
    "countType"
   ]
  },
  {
   "cell_type": "code",
   "execution_count": 11,
   "metadata": {
    "scrolled": true
   },
   "outputs": [
    {
     "data": {
      "image/png": "[encoded data removed]",
      "text/plain": [
       "<Figure size 720x360 with 1 Axes>"
      ]
     },
     "metadata": {
      "needs_background": "light"
     },
     "output_type": "display_data"
    }
   ],
   "source": [
    "numOfSport = 5\n",
    "plt.figure(figsize = (10,5))\n",
    "plt.bar(name[:numOfSport], counts[:numOfSport])\n",
    "# plt.title(\"The MSE  vs different lambda\", fontsize=18)\n",
    "# plt.xlabel(\"lambda\", fontsize=18)\n",
    "# plt.ylabel(\"MSE\", fontsize=18)\n",
    "# plt.legend()\n",
    "# plt.tick_params(labelsize=15)\n",
    "plt.show()\n",
    "# bestIndex = np.argmin(MSEs_total)\n",
    "# print('we can see the smallest MSE is {:.4f} with lambda {:.5f}.'\\\n",
    "#       .format(MSEs_total[bestIndex], lambs_total[bestIndex]))"
   ]
  },
  {
   "cell_type": "code",
   "execution_count": 12,
   "metadata": {},
   "outputs": [],
   "source": [
    "# np.save('processedData.npy', data, allow_pickle=True)"
   ]
  },
  {
   "cell_type": "code",
   "execution_count": 13,
   "metadata": {},
   "outputs": [],
   "source": [
    "# for sportType in name:\n",
    "#     print(sportType)\n",
    "#     with open('subDataset/'+sportType+'DataSet.json','w') as outfile:\n",
    "#         for sample in data:\n",
    "#             if sample['sport'] == sportType:   \n",
    "# #                 print(type(sample))\n",
    "#                 json.dump(sample,outfile,ensure_ascii=False)\n",
    "#                 outfile.write('\\n')\n"
   ]
  },
  {
   "cell_type": "markdown",
   "metadata": {},
   "source": [
    "# 3. class and feature selection"
   ]
  },
  {
   "cell_type": "code",
   "execution_count": 31,
   "metadata": {},
   "outputs": [],
   "source": [
    "UsedClass = name[:5]\n",
    "# weight = sum(counts[:5])/ torch.tensor(counts[:5]).float()"
   ]
  },
  {
   "cell_type": "code",
   "execution_count": 32,
   "metadata": {},
   "outputs": [
    {
     "data": {
      "text/plain": [
       "['bike', 'run', 'mountain bike', 'bike (transport)', 'indoor cycling']"
      ]
     },
     "execution_count": 32,
     "metadata": {},
     "output_type": "execute_result"
    }
   ],
   "source": [
    "UsedClass"
   ]
  },
  {
   "cell_type": "code",
   "execution_count": 69,
   "metadata": {},
   "outputs": [],
   "source": [
    "labelIndex = dict()\n",
    "for i, sport in enumerate(UsedClass):\n",
    "    labelIndex[sport] = i\n",
    "def feature(sample, lenOfSeq = 5):\n",
    "    featureList = []\n",
    "    featureList.append(labelIndex[sample['sport']])\n",
    "    featureList.extend([1,0] if sample['gender'] == 'male' else [0,1])\n",
    "    \n",
    "    inputFeat = []\n",
    "    inputFeat.append(sample['heart_rate'][::lenOfSeq])\n",
    "    inputFeat.append(sample['longitude'][::lenOfSeq])\n",
    "    inputFeat.append(sample['latitude'][::lenOfSeq])\n",
    "    inputFeat.append(sample['altitude'][::lenOfSeq])\n",
    "    inputFeat.append(sample['distance'][::lenOfSeq])\n",
    "#     inputFeat.append(sample['derived_speed'][::lenOfSeq])    \n",
    "    featureList.append(list(zip(*inputFeat)))\n",
    "    return featureList"
   ]
  },
  {
   "cell_type": "code",
   "execution_count": 70,
   "metadata": {},
   "outputs": [],
   "source": [
    "data = [feature(sample) for sample in alldata if sample['sport'] in UsedClass]"
   ]
  },
  {
   "cell_type": "code",
   "execution_count": 71,
   "metadata": {},
   "outputs": [],
   "source": [
    "train_data, val_test_data = train_test_split(data, test_size=1/5)\n",
    "val_data, test_data = train_test_split(val_test_data, test_size=1/2)"
   ]
  },
  {
   "cell_type": "code",
   "execution_count": 72,
   "metadata": {},
   "outputs": [],
   "source": [
    "XTrainGender = np.array([sample[1:3] for sample in train_data], dtype= 'float32')\n",
    "XTrainSeq = np.array([sample[3] for sample in train_data], dtype= 'float32')\n",
    "XTrain = [XTrainGender, XTrainSeq]\n",
    "YTrain = np.array([sample[0] for sample in train_data])\n",
    "\n",
    "\n",
    "XTestGender = torch.from_numpy(np.array([sample[1:3] for sample in test_data], dtype= 'float32')).cuda()\n",
    "XTestSeq = torch.from_numpy(np.array([sample[3] for sample in test_data], dtype= 'float32')).cuda()\n",
    "XTest = [XTestGender, XTestSeq]\n",
    "YTest = torch.from_numpy(np.array([sample[0] for sample in test_data]))\n",
    "\n",
    "# XTest = torch.from_numpy(test_data[:,1:]).cuda()\n",
    "# YTest = torch.from_numpy(test_data[:,0])\n",
    "\n",
    "\n",
    "XValGender = np.array([sample[1:3] for sample in val_data], dtype= 'float32')\n",
    "XValSeq = np.array([sample[3] for sample in val_data], dtype= 'float32')\n",
    "XVal = [XValGender, XValSeq]\n",
    "YVal = np.array([sample[0] for sample in val_data])\n",
    "\n"
   ]
  },
  {
   "cell_type": "code",
   "execution_count": 73,
   "metadata": {},
   "outputs": [],
   "source": [
    "# class sportDataset(td.Dataset):\n",
    "#     def __init__(self, X, Y): # initialize\n",
    "#         super(sportDataset, self).__init__() # initialize the superclass\n",
    "#         self.X = X\n",
    "#         self.Y = Y.astype('int64')\n",
    "#     def __len__(self):\n",
    "#         return len(self.Y) # return the size of dataset\n",
    "#     def __getitem__(self, idx):\n",
    "#         x = [self.X[0][idx], self.X[1][idx]] # do transformation\n",
    "#         d = self.Y[idx] # get label\n",
    "#         return x, d # return data and label\n",
    "#     def number_of_classes(self):\n",
    "#         return self.Y.max() + 1 # return the number of classes\n",
    "class sportDataset(td.Dataset):\n",
    "    def __init__(self, X, Y): # initialize\n",
    "        super(sportDataset, self).__init__() # initialize the superclass\n",
    "        self.XGender = X[0]\n",
    "        self.XSeq = X[1]\n",
    "        self.Y = Y.astype('int64')\n",
    "    def __len__(self):\n",
    "        return len(self.Y) # return the size of dataset\n",
    "    def __getitem__(self, idx):\n",
    "        xgender, xseq = self.XGender[idx], self.XSeq[idx]\n",
    "        d = self.Y[idx] # get label\n",
    "        return xgender, xseq, d # return data and label\n",
    "    def number_of_classes(self):\n",
    "        return self.Y.max() + 1 # return the number of classes"
   ]
  },
  {
   "cell_type": "code",
   "execution_count": 74,
   "metadata": {},
   "outputs": [
    {
     "data": {
      "text/plain": [
       "800"
      ]
     },
     "execution_count": 74,
     "metadata": {},
     "output_type": "execute_result"
    }
   ],
   "source": [
    "train_set = sportDataset(XTrain, YTrain)\n",
    "train_loader = td.DataLoader(train_set, batch_size = 100, shuffle = True, pin_memory = True)\n",
    "len(train_loader)"
   ]
  },
  {
   "cell_type": "code",
   "execution_count": 75,
   "metadata": {},
   "outputs": [
    {
     "data": {
      "text/plain": [
       "100"
      ]
     },
     "execution_count": 75,
     "metadata": {},
     "output_type": "execute_result"
    }
   ],
   "source": [
    "val_set = sportDataset(XVal, YVal)\n",
    "val_loader = td.DataLoader(val_set, batch_size = 100, shuffle = False, pin_memory = True)\n",
    "len(val_loader)"
   ]
  },
  {
   "cell_type": "markdown",
   "metadata": {},
   "source": [
    "# 4. train model"
   ]
  },
  {
   "cell_type": "code",
   "execution_count": 76,
   "metadata": {},
   "outputs": [],
   "source": [
    "class LSTMClassifier(nn.Module):\n",
    "\n",
    "    def __init__(self, series_dim, hidden_dim, other_dim, output_size, batch_size, num_layers = 1, \\\n",
    "                     seq_len = 60, device = 'cuda'):\n",
    "        super(LSTMClassifier, self).__init__()\n",
    "        self.device = device\n",
    "        self.hidden_dim = hidden_dim\n",
    "        self.output_size = output_size\n",
    "        self.num_layers = num_layers\n",
    "        self.batch_size = batch_size\n",
    "        \n",
    "        self.lstm = nn.LSTM(series_dim, hidden_dim, num_layers)\n",
    "        self.hidden2label = nn.Linear(hidden_dim + other_dim, output_size)\n",
    "#         self.hidden = self.init_hidden()\n",
    "\n",
    "#     def init_hidden(self):\n",
    "#         return (torch.zeros(self.num_layers, self.batch_size, self.hidden_dim).cuda(),\n",
    "#                 torch.zeros(self.num_layers, self.batch_size, self.hidden_dim).cuda())\n",
    "\n",
    "    def forward(self, xgenders, xseqs):\n",
    "        x = xseqs.permute(1,0,2)\n",
    "        lstm_out, self.hidden = self.lstm(x)\n",
    "#         print(lstm_out.shape) \n",
    "#         print(lstm_out[-1,:,:].shape) \n",
    "#         print(lstm_out.view(lstm_out.shape[1],-1).shape)\n",
    "        classifierInput = torch.cat((lstm_out[-1,:,:], xgenders),1)\n",
    "#         print(classifierInput.shape) \n",
    "        y  = self.hidden2label(classifierInput)\n",
    "        return y"
   ]
  },
  {
   "cell_type": "code",
   "execution_count": 77,
   "metadata": {},
   "outputs": [],
   "source": [
    "def backprop_deep(net, T, gamma=.001, rho=.9, weight = None, output_dir = None): \n",
    "    if weight is not None:\n",
    "        weight = weight.cuda()\n",
    "    criterion = nn.CrossEntropyLoss(weight)\n",
    "    optimizer = torch.optim.SGD(net.parameters(), lr=gamma, momentum=rho)\n",
    "    train_losses = []\n",
    "    train_accs = []\n",
    "    val_losses = []\n",
    "    val_accs = []\n",
    "    minVal_loss = float('inf')\n",
    "    minValCount = 0\n",
    "    \n",
    "    for epoch in range(T): \n",
    "        running_loss = 0.0 \n",
    "        train_loss = 0.0\n",
    "        train_correct = 0.0\n",
    "        net.train()\n",
    "        count = 0\n",
    "        for xgenders, xseqs, labels in train_loader:\n",
    "            xgenders, xseqs, labels = xgenders.to(net.device), xseqs.to(net.device), labels.to(net.device)\n",
    "            # Initialize the gradients to zero\n",
    "            optimizer.zero_grad()\n",
    "#             net.hidden = [item[:batch_size_t] for item in net.init_hidden()]\n",
    "            # Forward propagation\n",
    "            outputs = net(xgenders, xseqs)\n",
    "            # Error evaluation\n",
    "            loss = criterion(outputs, labels)\n",
    "            # Back propagation\n",
    "            loss.backward()\n",
    "            # Parameter update\n",
    "            optimizer.step()\n",
    "            with torch.no_grad():\n",
    "                running_loss += loss.item() \n",
    "                train_loss += loss.item()\n",
    "                _, y_pred = outputs.max(-1)\n",
    "                correct = sum(y_pred == labels).item()\n",
    "                train_correct += correct\n",
    "            count += len(labels)\n",
    "            if (count // len(labels)) % 1000 == 0:\n",
    "                print('Iteration %d, count %d, running loss: %.3f' %\n",
    "                      (epoch + 1, count, running_loss))\n",
    "                running_loss = 0.0\n",
    "        train_losses.append(train_loss/8)\n",
    "        train_accs.append(train_correct/count*100)\n",
    "        print('Iteration %d, train loss: %.3f train acc : %.3f' % \\\n",
    "                  (epoch + 1, train_loss/8, train_correct/count*100))               \n",
    "                \n",
    "        ## validation   \n",
    "        val_loss = 0\n",
    "        val_correct = 0.0\n",
    "        val_count = 0.0\n",
    "        net.eval()\n",
    "        with torch.no_grad():\n",
    "            for xgenders, xseqs, labels in val_loader:\n",
    "                xgenders, xseqs, labels = xgenders.to(net.device), xseqs.to(net.device), labels.to(net.device)            \n",
    "                # Initialize the gradients to zero\n",
    "                optimizer.zero_grad()\n",
    "                # Forward propagation\n",
    "                outputs = net(xgenders, xseqs)\n",
    "                # Error evaluation\n",
    "                loss = criterion(outputs, labels)\n",
    "                val_loss += loss.item() \n",
    "                _, y_pred = outputs.max(-1)\n",
    "                correct = sum(y_pred == labels).item()\n",
    "                val_correct += correct\n",
    "                val_count += len(labels)\n",
    "                \n",
    "        print('Iteration %d, validation loss: %.3f validation acc: %.3f' % \\\n",
    "                  (epoch + 1, val_loss, val_correct/val_count*100))\n",
    "        minValCount += 1\n",
    "        if val_loss < minVal_loss:\n",
    "            minVal_loss = val_loss\n",
    "            minValCount = 0\n",
    "            \n",
    "            if output_dir is None:\n",
    "                output_dir = 'checkpoint/LSTM/experiment_lstm{}'.format(time.time())\n",
    "            os.makedirs(output_dir, exist_ok=True)\n",
    "            checkpoint_path = os.path.join(output_dir, \"checkpoint.pth.tar\")\n",
    "            config_path = os.path.join(output_dir, \"config.txt\")\n",
    "            state_dict = {'Net': net.state_dict(), 'Optimizer': optimizer.state_dict()}\n",
    "            torch.save(state_dict, checkpoint_path)\n",
    "            with open(config_path, 'w') as f:\n",
    "                print(net, file=f)\n",
    "            \n",
    "            \n",
    "        val_losses.append(val_loss)\n",
    "        val_accs.append(val_correct/val_count*100)\n",
    "        if minValCount > 20:\n",
    "            break\n",
    "    checkpoint = torch.load(checkpoint_path, map_location=net.device)\n",
    "    net.load_state_dict(checkpoint['Net'])\n",
    "    print(\"Finish training for {} epochs\".format(T))\n",
    "    return train_losses, val_losses, train_accs, val_accs"
   ]
  },
  {
   "cell_type": "code",
   "execution_count": 78,
   "metadata": {
    "scrolled": false
   },
   "outputs": [],
   "source": [
    "LSTMmodel = LSTMClassifier(series_dim = XTrain[1].shape[2], hidden_dim = 50, other_dim = XTrain[0].shape[1], \\\n",
    "                               output_size = len(UsedClass), batch_size = 100, seq_len = XTrain[1].shape[1], \\\n",
    "                                num_layers = 3).to(device)"
   ]
  },
  {
   "cell_type": "code",
   "execution_count": 79,
   "metadata": {
    "scrolled": false
   },
   "outputs": [
    {
     "name": "stdout",
     "output_type": "stream",
     "text": [
      "Iteration 1, train loss: 117.330 train acc : 48.244\n",
      "Iteration 1, validation loss: 107.140 validation acc: 50.120\n",
      "Iteration 2, train loss: 94.272 train acc : 67.858\n",
      "Iteration 2, validation loss: 77.154 validation acc: 75.960\n",
      "Iteration 3, train loss: 71.271 train acc : 78.471\n",
      "Iteration 3, validation loss: 67.863 validation acc: 79.942\n",
      "Iteration 4, train loss: 67.225 train acc : 79.492\n",
      "Iteration 4, validation loss: 65.227 validation acc: 79.582\n",
      "Iteration 5, train loss: 63.203 train acc : 80.622\n",
      "Iteration 5, validation loss: 61.827 validation acc: 81.172\n",
      "Iteration 6, train loss: 64.245 train acc : 79.987\n",
      "Iteration 6, validation loss: 64.251 validation acc: 80.072\n",
      "Iteration 7, train loss: 62.118 train acc : 80.463\n",
      "Iteration 7, validation loss: 61.314 validation acc: 80.062\n",
      "Iteration 8, train loss: 61.079 train acc : 80.870\n",
      "Iteration 8, validation loss: 61.291 validation acc: 80.522\n",
      "Iteration 9, train loss: 60.145 train acc : 81.050\n",
      "Iteration 9, validation loss: 60.410 validation acc: 80.972\n",
      "Iteration 10, train loss: 59.607 train acc : 81.081\n",
      "Iteration 10, validation loss: 58.449 validation acc: 81.212\n",
      "Iteration 11, train loss: 58.594 train acc : 81.405\n",
      "Iteration 11, validation loss: 57.647 validation acc: 82.003\n",
      "Iteration 12, train loss: 57.578 train acc : 81.519\n",
      "Iteration 12, validation loss: 56.682 validation acc: 82.033\n",
      "Iteration 13, train loss: 56.782 train acc : 81.745\n",
      "Iteration 13, validation loss: 55.574 validation acc: 82.033\n",
      "Iteration 14, train loss: 56.061 train acc : 81.686\n",
      "Iteration 14, validation loss: 56.719 validation acc: 81.983\n",
      "Iteration 15, train loss: 56.468 train acc : 81.735\n",
      "Iteration 15, validation loss: 55.890 validation acc: 81.933\n",
      "Iteration 16, train loss: 55.546 train acc : 81.680\n",
      "Iteration 16, validation loss: 56.859 validation acc: 81.723\n",
      "Iteration 17, train loss: 54.673 train acc : 81.880\n",
      "Iteration 17, validation loss: 56.352 validation acc: 81.633\n",
      "Iteration 18, train loss: 54.078 train acc : 81.930\n",
      "Iteration 18, validation loss: 54.427 validation acc: 82.153\n",
      "Iteration 19, train loss: 53.812 train acc : 81.843\n",
      "Iteration 19, validation loss: 53.024 validation acc: 82.713\n",
      "Iteration 20, train loss: 53.611 train acc : 82.014\n",
      "Iteration 20, validation loss: 54.573 validation acc: 81.763\n",
      "Iteration 21, train loss: 52.271 train acc : 82.310\n",
      "Iteration 21, validation loss: 51.773 validation acc: 82.463\n",
      "Iteration 22, train loss: 51.516 train acc : 82.475\n",
      "Iteration 22, validation loss: 50.449 validation acc: 82.833\n",
      "Iteration 23, train loss: 50.944 train acc : 82.612\n",
      "Iteration 23, validation loss: 51.107 validation acc: 82.623\n",
      "Iteration 24, train loss: 50.603 train acc : 82.895\n",
      "Iteration 24, validation loss: 50.428 validation acc: 83.123\n",
      "Iteration 25, train loss: 50.189 train acc : 83.143\n",
      "Iteration 25, validation loss: 52.681 validation acc: 82.403\n",
      "Iteration 26, train loss: 49.478 train acc : 83.288\n",
      "Iteration 26, validation loss: 50.642 validation acc: 83.093\n",
      "Iteration 27, train loss: 48.724 train acc : 83.384\n",
      "Iteration 27, validation loss: 51.648 validation acc: 82.443\n",
      "Iteration 28, train loss: 47.983 train acc : 83.589\n",
      "Iteration 28, validation loss: 47.881 validation acc: 83.764\n",
      "Iteration 29, train loss: 47.908 train acc : 83.573\n",
      "Iteration 29, validation loss: 49.795 validation acc: 83.223\n",
      "Iteration 30, train loss: 47.039 train acc : 83.957\n",
      "Iteration 30, validation loss: 46.783 validation acc: 84.424\n",
      "Iteration 31, train loss: 46.997 train acc : 83.956\n",
      "Iteration 31, validation loss: 47.536 validation acc: 84.134\n",
      "Iteration 32, train loss: 46.642 train acc : 84.052\n",
      "Iteration 32, validation loss: 46.419 validation acc: 83.924\n",
      "Iteration 33, train loss: 46.151 train acc : 84.151\n",
      "Iteration 33, validation loss: 46.713 validation acc: 84.164\n",
      "Iteration 34, train loss: 46.689 train acc : 83.891\n",
      "Iteration 34, validation loss: 48.736 validation acc: 83.113\n",
      "Iteration 35, train loss: 45.939 train acc : 84.145\n",
      "Iteration 35, validation loss: 45.066 validation acc: 84.604\n",
      "Iteration 36, train loss: 45.327 train acc : 84.464\n",
      "Iteration 36, validation loss: 44.595 validation acc: 84.944\n",
      "Iteration 37, train loss: 44.837 train acc : 84.579\n",
      "Iteration 37, validation loss: 45.217 validation acc: 84.654\n",
      "Iteration 38, train loss: 44.635 train acc : 84.570\n",
      "Iteration 38, validation loss: 44.473 validation acc: 85.154\n",
      "Iteration 39, train loss: 44.127 train acc : 84.849\n",
      "Iteration 39, validation loss: 45.302 validation acc: 84.424\n",
      "Iteration 40, train loss: 44.325 train acc : 84.732\n",
      "Iteration 40, validation loss: 47.424 validation acc: 83.603\n",
      "Iteration 41, train loss: 43.569 train acc : 85.000\n",
      "Iteration 41, validation loss: 43.467 validation acc: 84.854\n",
      "Iteration 42, train loss: 43.588 train acc : 84.931\n",
      "Iteration 42, validation loss: 45.345 validation acc: 84.254\n",
      "Iteration 43, train loss: 43.417 train acc : 84.994\n",
      "Iteration 43, validation loss: 43.569 validation acc: 84.714\n",
      "Iteration 44, train loss: 42.980 train acc : 84.955\n",
      "Iteration 44, validation loss: 42.281 validation acc: 85.164\n",
      "Iteration 45, train loss: 42.863 train acc : 85.013\n",
      "Iteration 45, validation loss: 43.667 validation acc: 85.154\n",
      "Iteration 46, train loss: 42.533 train acc : 85.164\n",
      "Iteration 46, validation loss: 42.941 validation acc: 85.254\n",
      "Iteration 47, train loss: 42.254 train acc : 85.268\n",
      "Iteration 47, validation loss: 42.484 validation acc: 85.084\n",
      "Iteration 48, train loss: 42.096 train acc : 85.235\n",
      "Iteration 48, validation loss: 42.594 validation acc: 85.444\n",
      "Iteration 49, train loss: 42.106 train acc : 85.281\n",
      "Iteration 49, validation loss: 43.965 validation acc: 85.304\n",
      "Iteration 50, train loss: 41.778 train acc : 85.499\n",
      "Iteration 50, validation loss: 42.175 validation acc: 85.264\n",
      "Iteration 51, train loss: 41.686 train acc : 85.385\n",
      "Iteration 51, validation loss: 42.253 validation acc: 85.484\n",
      "Iteration 52, train loss: 41.471 train acc : 85.394\n",
      "Iteration 52, validation loss: 42.022 validation acc: 85.484\n",
      "Iteration 53, train loss: 41.134 train acc : 85.632\n",
      "Iteration 53, validation loss: 41.025 validation acc: 85.854\n",
      "Iteration 54, train loss: 40.729 train acc : 85.727\n",
      "Iteration 54, validation loss: 42.016 validation acc: 85.224\n",
      "Iteration 55, train loss: 40.694 train acc : 85.680\n",
      "Iteration 55, validation loss: 41.110 validation acc: 85.674\n",
      "Iteration 56, train loss: 40.802 train acc : 85.714\n",
      "Iteration 56, validation loss: 42.026 validation acc: 85.484\n",
      "Iteration 57, train loss: 40.585 train acc : 85.810\n",
      "Iteration 57, validation loss: 44.835 validation acc: 84.594\n",
      "Iteration 58, train loss: 40.255 train acc : 85.897\n",
      "Iteration 58, validation loss: 40.736 validation acc: 85.654\n",
      "Iteration 59, train loss: 39.979 train acc : 85.944\n",
      "Iteration 59, validation loss: 39.747 validation acc: 86.425\n",
      "Iteration 60, train loss: 40.214 train acc : 85.743\n",
      "Iteration 60, validation loss: 40.939 validation acc: 85.814\n",
      "Iteration 61, train loss: 40.088 train acc : 85.847\n",
      "Iteration 61, validation loss: 39.596 validation acc: 86.154\n",
      "Iteration 62, train loss: 39.923 train acc : 85.909\n",
      "Iteration 62, validation loss: 40.247 validation acc: 86.004\n",
      "Iteration 63, train loss: 39.467 train acc : 86.066\n",
      "Iteration 63, validation loss: 39.969 validation acc: 85.674\n",
      "Iteration 64, train loss: 39.378 train acc : 86.088\n",
      "Iteration 64, validation loss: 40.469 validation acc: 85.954\n",
      "Iteration 65, train loss: 39.712 train acc : 86.037\n",
      "Iteration 65, validation loss: 42.380 validation acc: 85.234\n",
      "Iteration 66, train loss: 39.310 train acc : 86.153\n",
      "Iteration 66, validation loss: 39.750 validation acc: 86.104\n",
      "Iteration 67, train loss: 39.324 train acc : 86.050\n",
      "Iteration 67, validation loss: 40.466 validation acc: 85.804\n",
      "Iteration 68, train loss: 39.078 train acc : 86.181\n",
      "Iteration 68, validation loss: 41.142 validation acc: 85.964\n",
      "Iteration 69, train loss: 38.991 train acc : 86.159\n",
      "Iteration 69, validation loss: 41.925 validation acc: 85.394\n",
      "Iteration 70, train loss: 38.809 train acc : 86.071\n",
      "Iteration 70, validation loss: 39.306 validation acc: 86.044\n",
      "Iteration 71, train loss: 39.026 train acc : 86.183\n",
      "Iteration 71, validation loss: 40.503 validation acc: 85.794\n",
      "Iteration 72, train loss: 38.950 train acc : 86.234\n",
      "Iteration 72, validation loss: 40.597 validation acc: 85.884\n",
      "Iteration 73, train loss: 39.133 train acc : 86.222\n",
      "Iteration 73, validation loss: 42.093 validation acc: 85.314\n"
     ]
    },
    {
     "name": "stdout",
     "output_type": "stream",
     "text": [
      "Iteration 74, train loss: 39.324 train acc : 86.015\n",
      "Iteration 74, validation loss: 42.231 validation acc: 85.294\n",
      "Iteration 75, train loss: 38.440 train acc : 86.446\n",
      "Iteration 75, validation loss: 38.905 validation acc: 86.174\n",
      "Iteration 76, train loss: 38.820 train acc : 86.182\n",
      "Iteration 76, validation loss: 39.287 validation acc: 86.024\n",
      "Iteration 77, train loss: 38.309 train acc : 86.434\n",
      "Iteration 77, validation loss: 39.366 validation acc: 86.355\n",
      "Iteration 78, train loss: 38.116 train acc : 86.578\n",
      "Iteration 78, validation loss: 40.255 validation acc: 85.884\n",
      "Iteration 79, train loss: 38.176 train acc : 86.323\n",
      "Iteration 79, validation loss: 38.342 validation acc: 86.565\n",
      "Iteration 80, train loss: 37.969 train acc : 86.364\n",
      "Iteration 80, validation loss: 40.647 validation acc: 85.654\n",
      "Iteration 81, train loss: 37.866 train acc : 86.529\n",
      "Iteration 81, validation loss: 41.162 validation acc: 85.244\n",
      "Iteration 82, train loss: 37.645 train acc : 86.572\n",
      "Iteration 82, validation loss: 38.840 validation acc: 86.224\n",
      "Iteration 83, train loss: 37.764 train acc : 86.513\n",
      "Iteration 83, validation loss: 38.630 validation acc: 86.575\n",
      "Iteration 84, train loss: 37.516 train acc : 86.547\n",
      "Iteration 84, validation loss: 38.402 validation acc: 86.545\n",
      "Iteration 85, train loss: 37.538 train acc : 86.656\n",
      "Iteration 85, validation loss: 38.837 validation acc: 86.194\n",
      "Iteration 86, train loss: 37.316 train acc : 86.618\n",
      "Iteration 86, validation loss: 37.821 validation acc: 86.485\n",
      "Iteration 87, train loss: 37.190 train acc : 86.788\n",
      "Iteration 87, validation loss: 37.679 validation acc: 86.515\n",
      "Iteration 88, train loss: 39.232 train acc : 86.219\n",
      "Iteration 88, validation loss: 37.886 validation acc: 86.645\n",
      "Iteration 89, train loss: 37.302 train acc : 86.589\n",
      "Iteration 89, validation loss: 38.200 validation acc: 86.555\n",
      "Iteration 90, train loss: 37.044 train acc : 86.777\n",
      "Iteration 90, validation loss: 37.325 validation acc: 86.835\n",
      "Iteration 91, train loss: 36.912 train acc : 86.822\n",
      "Iteration 91, validation loss: 39.740 validation acc: 85.944\n",
      "Iteration 92, train loss: 36.978 train acc : 86.797\n",
      "Iteration 92, validation loss: 37.657 validation acc: 86.555\n",
      "Iteration 93, train loss: 36.611 train acc : 86.947\n",
      "Iteration 93, validation loss: 37.028 validation acc: 86.795\n",
      "Iteration 94, train loss: 36.793 train acc : 86.801\n",
      "Iteration 94, validation loss: 38.903 validation acc: 86.825\n",
      "Iteration 95, train loss: 37.068 train acc : 86.817\n",
      "Iteration 95, validation loss: 39.432 validation acc: 86.775\n",
      "Iteration 96, train loss: 36.702 train acc : 86.877\n",
      "Iteration 96, validation loss: 38.143 validation acc: 86.435\n",
      "Iteration 97, train loss: 36.417 train acc : 87.018\n",
      "Iteration 97, validation loss: 38.014 validation acc: 86.685\n",
      "Iteration 98, train loss: 36.343 train acc : 86.985\n",
      "Iteration 98, validation loss: 37.907 validation acc: 86.815\n",
      "Iteration 99, train loss: 36.089 train acc : 87.176\n",
      "Iteration 99, validation loss: 38.523 validation acc: 86.164\n",
      "Iteration 100, train loss: 36.131 train acc : 87.121\n",
      "Iteration 100, validation loss: 37.643 validation acc: 86.675\n",
      "Iteration 101, train loss: 36.426 train acc : 86.885\n",
      "Iteration 101, validation loss: 37.651 validation acc: 86.695\n",
      "Iteration 102, train loss: 35.978 train acc : 87.187\n",
      "Iteration 102, validation loss: 36.838 validation acc: 86.995\n",
      "Iteration 103, train loss: 35.981 train acc : 87.222\n",
      "Iteration 103, validation loss: 36.798 validation acc: 87.135\n",
      "Iteration 104, train loss: 35.758 train acc : 87.265\n",
      "Iteration 104, validation loss: 36.419 validation acc: 87.215\n",
      "Iteration 105, train loss: 35.797 train acc : 87.235\n",
      "Iteration 105, validation loss: 36.282 validation acc: 87.175\n",
      "Iteration 106, train loss: 35.673 train acc : 87.305\n",
      "Iteration 106, validation loss: 36.449 validation acc: 86.835\n",
      "Iteration 107, train loss: 35.538 train acc : 87.289\n",
      "Iteration 107, validation loss: 36.665 validation acc: 87.255\n",
      "Iteration 108, train loss: 35.549 train acc : 87.287\n",
      "Iteration 108, validation loss: 36.503 validation acc: 86.975\n",
      "Iteration 109, train loss: 35.412 train acc : 87.369\n",
      "Iteration 109, validation loss: 36.794 validation acc: 87.105\n",
      "Iteration 110, train loss: 35.414 train acc : 87.349\n",
      "Iteration 110, validation loss: 36.501 validation acc: 86.905\n",
      "Iteration 111, train loss: 35.199 train acc : 87.564\n",
      "Iteration 111, validation loss: 36.041 validation acc: 87.345\n",
      "Iteration 112, train loss: 35.208 train acc : 87.446\n",
      "Iteration 112, validation loss: 37.199 validation acc: 86.985\n",
      "Iteration 113, train loss: 35.008 train acc : 87.490\n",
      "Iteration 113, validation loss: 36.343 validation acc: 87.065\n",
      "Iteration 114, train loss: 35.148 train acc : 87.484\n",
      "Iteration 114, validation loss: 36.466 validation acc: 87.125\n",
      "Iteration 115, train loss: 35.399 train acc : 87.339\n",
      "Iteration 115, validation loss: 36.131 validation acc: 87.165\n",
      "Iteration 116, train loss: 34.983 train acc : 87.579\n",
      "Iteration 116, validation loss: 37.169 validation acc: 87.065\n",
      "Iteration 117, train loss: 34.720 train acc : 87.542\n",
      "Iteration 117, validation loss: 36.600 validation acc: 87.015\n",
      "Iteration 118, train loss: 35.046 train acc : 87.535\n",
      "Iteration 118, validation loss: 36.612 validation acc: 87.125\n",
      "Iteration 119, train loss: 34.702 train acc : 87.645\n",
      "Iteration 119, validation loss: 36.235 validation acc: 87.075\n",
      "Iteration 120, train loss: 34.580 train acc : 87.736\n",
      "Iteration 120, validation loss: 35.930 validation acc: 87.365\n",
      "Iteration 121, train loss: 34.724 train acc : 87.552\n",
      "Iteration 121, validation loss: 35.745 validation acc: 87.165\n",
      "Iteration 122, train loss: 34.464 train acc : 87.702\n",
      "Iteration 122, validation loss: 36.783 validation acc: 87.025\n",
      "Iteration 123, train loss: 34.438 train acc : 87.766\n",
      "Iteration 123, validation loss: 35.632 validation acc: 87.575\n",
      "Iteration 124, train loss: 34.297 train acc : 87.785\n",
      "Iteration 124, validation loss: 37.956 validation acc: 86.685\n",
      "Iteration 125, train loss: 34.456 train acc : 87.725\n",
      "Iteration 125, validation loss: 35.950 validation acc: 87.195\n",
      "Iteration 126, train loss: 34.469 train acc : 87.715\n",
      "Iteration 126, validation loss: 36.047 validation acc: 87.245\n",
      "Iteration 127, train loss: 34.249 train acc : 87.809\n",
      "Iteration 127, validation loss: 35.577 validation acc: 87.585\n",
      "Iteration 128, train loss: 34.195 train acc : 87.809\n",
      "Iteration 128, validation loss: 35.721 validation acc: 87.375\n",
      "Iteration 129, train loss: 34.280 train acc : 87.769\n",
      "Iteration 129, validation loss: 36.901 validation acc: 86.895\n",
      "Iteration 130, train loss: 34.234 train acc : 87.821\n",
      "Iteration 130, validation loss: 36.779 validation acc: 87.035\n",
      "Iteration 131, train loss: 35.389 train acc : 87.574\n",
      "Iteration 131, validation loss: 37.149 validation acc: 86.825\n",
      "Iteration 132, train loss: 34.321 train acc : 87.856\n",
      "Iteration 132, validation loss: 35.519 validation acc: 87.495\n",
      "Iteration 133, train loss: 34.095 train acc : 87.895\n",
      "Iteration 133, validation loss: 36.702 validation acc: 87.275\n",
      "Iteration 134, train loss: 34.089 train acc : 87.877\n",
      "Iteration 134, validation loss: 36.781 validation acc: 86.935\n",
      "Iteration 135, train loss: 33.850 train acc : 87.995\n",
      "Iteration 135, validation loss: 35.406 validation acc: 87.435\n",
      "Iteration 136, train loss: 33.694 train acc : 87.960\n",
      "Iteration 136, validation loss: 36.478 validation acc: 86.965\n",
      "Iteration 137, train loss: 33.728 train acc : 88.101\n",
      "Iteration 137, validation loss: 35.261 validation acc: 87.795\n",
      "Iteration 138, train loss: 33.606 train acc : 88.098\n",
      "Iteration 138, validation loss: 34.679 validation acc: 87.715\n",
      "Iteration 139, train loss: 33.770 train acc : 88.025\n",
      "Iteration 139, validation loss: 35.968 validation acc: 87.425\n",
      "Iteration 140, train loss: 33.737 train acc : 88.025\n",
      "Iteration 140, validation loss: 36.329 validation acc: 86.985\n",
      "Iteration 141, train loss: 33.784 train acc : 87.996\n",
      "Iteration 141, validation loss: 36.757 validation acc: 86.995\n",
      "Iteration 142, train loss: 33.510 train acc : 88.105\n",
      "Iteration 142, validation loss: 34.851 validation acc: 87.815\n",
      "Iteration 143, train loss: 33.383 train acc : 88.085\n",
      "Iteration 143, validation loss: 35.439 validation acc: 87.475\n",
      "Iteration 144, train loss: 33.323 train acc : 88.163\n",
      "Iteration 144, validation loss: 36.991 validation acc: 86.865\n",
      "Iteration 145, train loss: 33.334 train acc : 88.065\n",
      "Iteration 145, validation loss: 34.615 validation acc: 87.795\n"
     ]
    },
    {
     "name": "stdout",
     "output_type": "stream",
     "text": [
      "Iteration 146, train loss: 33.309 train acc : 88.106\n",
      "Iteration 146, validation loss: 35.099 validation acc: 87.705\n",
      "Iteration 147, train loss: 33.171 train acc : 88.210\n",
      "Iteration 147, validation loss: 35.082 validation acc: 87.755\n",
      "Iteration 148, train loss: 33.079 train acc : 88.140\n",
      "Iteration 148, validation loss: 35.681 validation acc: 87.555\n",
      "Iteration 149, train loss: 33.055 train acc : 88.258\n",
      "Iteration 149, validation loss: 33.807 validation acc: 88.195\n",
      "Iteration 150, train loss: 32.857 train acc : 88.343\n",
      "Iteration 150, validation loss: 35.392 validation acc: 87.695\n",
      "Iteration 151, train loss: 33.155 train acc : 88.158\n",
      "Iteration 151, validation loss: 35.140 validation acc: 87.465\n",
      "Iteration 152, train loss: 33.296 train acc : 88.116\n",
      "Iteration 152, validation loss: 37.457 validation acc: 86.885\n",
      "Iteration 153, train loss: 33.036 train acc : 88.198\n",
      "Iteration 153, validation loss: 35.554 validation acc: 87.615\n",
      "Iteration 154, train loss: 33.086 train acc : 88.173\n",
      "Iteration 154, validation loss: 35.155 validation acc: 87.415\n",
      "Iteration 155, train loss: 33.218 train acc : 88.045\n",
      "Iteration 155, validation loss: 34.606 validation acc: 87.995\n",
      "Iteration 156, train loss: 32.907 train acc : 88.368\n",
      "Iteration 156, validation loss: 35.248 validation acc: 87.355\n",
      "Iteration 157, train loss: 32.872 train acc : 88.305\n",
      "Iteration 157, validation loss: 35.340 validation acc: 87.485\n",
      "Iteration 158, train loss: 32.825 train acc : 88.215\n",
      "Iteration 158, validation loss: 34.372 validation acc: 87.525\n",
      "Iteration 159, train loss: 32.494 train acc : 88.488\n",
      "Iteration 159, validation loss: 34.724 validation acc: 87.545\n",
      "Iteration 160, train loss: 32.808 train acc : 88.305\n",
      "Iteration 160, validation loss: 39.352 validation acc: 86.194\n",
      "Iteration 161, train loss: 32.830 train acc : 88.354\n",
      "Iteration 161, validation loss: 34.416 validation acc: 87.885\n",
      "Iteration 162, train loss: 32.687 train acc : 88.426\n",
      "Iteration 162, validation loss: 34.197 validation acc: 87.885\n",
      "Iteration 163, train loss: 32.440 train acc : 88.461\n",
      "Iteration 163, validation loss: 34.449 validation acc: 87.735\n",
      "Iteration 164, train loss: 32.454 train acc : 88.410\n",
      "Iteration 164, validation loss: 34.288 validation acc: 87.995\n",
      "Iteration 165, train loss: 32.197 train acc : 88.448\n",
      "Iteration 165, validation loss: 34.516 validation acc: 87.815\n",
      "Iteration 166, train loss: 32.056 train acc : 88.600\n",
      "Iteration 166, validation loss: 34.464 validation acc: 87.875\n",
      "Iteration 167, train loss: 32.389 train acc : 88.505\n",
      "Iteration 167, validation loss: 34.464 validation acc: 87.735\n",
      "Iteration 168, train loss: 32.408 train acc : 88.451\n",
      "Iteration 168, validation loss: 34.503 validation acc: 88.015\n",
      "Iteration 169, train loss: 32.664 train acc : 88.445\n",
      "Iteration 169, validation loss: 33.962 validation acc: 87.895\n",
      "Iteration 170, train loss: 32.332 train acc : 88.381\n",
      "Iteration 170, validation loss: 34.385 validation acc: 87.805\n",
      "Finish training for 500 epochs\n"
     ]
    }
   ],
   "source": [
    "epochs = 500\n",
    "train_losses, val_losses, train_accs, val_accs = backprop_deep(LSTMmodel, T=epochs, weight = None)"
   ]
  },
  {
   "cell_type": "code",
   "execution_count": 80,
   "metadata": {},
   "outputs": [
    {
     "data": {
      "text/plain": [
       "<matplotlib.legend.Legend at 0x7ff0842ca240>"
      ]
     },
     "execution_count": 80,
     "metadata": {},
     "output_type": "execute_result"
    },
    {
     "data": {
      "image/png": "[encoded data removed]",
      "text/plain": [
       "<Figure size 1296x432 with 2 Axes>"
      ]
     },
     "metadata": {
      "needs_background": "light"
     },
     "output_type": "display_data"
    }
   ],
   "source": [
    "final_epochs = len(train_losses)\n",
    "fig, axes = plt.subplots(ncols=2, figsize=(18, 6))\n",
    "\n",
    "axes[0].plot(range(final_epochs), train_losses, label = 'train loss')\n",
    "axes[0].plot(range(final_epochs), val_losses, label = 'val loss')\n",
    "axes[0].set_xlabel('Epoch') \n",
    "axes[0].set_ylabel('Loss')\n",
    "axes[0].legend()\n",
    "\n",
    "axes[1].plot(range(final_epochs), train_accs, label = 'train acc')\n",
    "axes[1].plot(range(final_epochs), val_accs, label = 'val acc')\n",
    "axes[1].set_xlabel('Epoch') \n",
    "axes[1].set_ylabel('Acc')\n",
    "axes[1].legend()"
   ]
  },
  {
   "cell_type": "markdown",
   "metadata": {},
   "source": [
    "# 5. test model"
   ]
  },
  {
   "cell_type": "code",
   "execution_count": 81,
   "metadata": {},
   "outputs": [],
   "source": [
    "from sklearn.metrics import classification_report, confusion_matrix, accuracy_score\n",
    "def testModel(XTestGender, XTestSeq, ytest, net): \n",
    "    net.eval()\n",
    "    with torch.no_grad():\n",
    "        outputs = net(XTestGender, XTestSeq).cpu()\n",
    "    y_val = np.argmax(outputs, axis=1)   \n",
    "    print(confusion_matrix(ytest,y_val))\n",
    "    print(classification_report(ytest,y_val))\n",
    "    print(accuracy_score(ytest, y_val))\n",
    "    return confusion_matrix(ytest,y_val)\n",
    "# def testModel(xtest, ytest, net): \n",
    "#     net.eval()\n",
    "#     with torch.no_grad():\n",
    "#         outputs = net(xtest)\n",
    "#     _, y_val = outputs.max(-1)\n",
    "#     correct = sum(y_val == ytest).item()\n",
    "#     acc =  correct / len(y_val) * 100\n",
    "#     return acc, correct\n",
    "def plot_confusion_matrix(cm, classes,\n",
    "                          normalize=False,\n",
    "                          title='Confusion matrix'):\n",
    "    \"\"\"\n",
    "    This function prints and plots the confusion matrix.\n",
    "    Normalization can be applied by setting `normalize=True`.\n",
    "    \"\"\"\n",
    "    import itertools\n",
    "    if normalize:\n",
    "        cm = cm.astype('float') / cm.sum(axis=1)[:, np.newaxis]\n",
    "        print(\"Normalized confusion matrix\")\n",
    "    else:\n",
    "        print('Confusion matrix, without normalization')\n",
    "\n",
    "#     print(cm)\n",
    "\n",
    "    plt.imshow(cm, interpolation='nearest')\n",
    "    plt.title(title)\n",
    "    plt.colorbar()\n",
    "    tick_marks = np.arange(len(classes))\n",
    "    plt.xticks(tick_marks, classes, rotation=45)\n",
    "    plt.yticks(tick_marks, classes)\n",
    "\n",
    "#     fmt = '.2f' if normalize else 'd'\n",
    "#     thresh = cm.max() / 2.\n",
    "#     for i, j in itertools.product(range(cm.shape[0]), range(cm.shape[1])):\n",
    "#         plt.text(j, i, format(cm[i, j], fmt),\n",
    "#                  horizontalalignment=\"center\",\n",
    "#                  color=\"white\" if cm[i, j] > thresh else \"black\")\n",
    "\n",
    "    plt.ylabel('True label')\n",
    "    plt.xlabel('Predicted label')\n",
    "    plt.tight_layout()"
   ]
  },
  {
   "cell_type": "code",
   "execution_count": 82,
   "metadata": {},
   "outputs": [
    {
     "name": "stdout",
     "output_type": "stream",
     "text": [
      "[[4504  128  175   25    5]\n",
      " [ 170 3807   21    2    0]\n",
      " [ 322   64  312   11    1]\n",
      " [ 122    5   15  167    0]\n",
      " [ 100    7    1    0   32]]\n",
      "              precision    recall  f1-score   support\n",
      "\n",
      "           0       0.86      0.93      0.90      4837\n",
      "           1       0.95      0.95      0.95      4000\n",
      "           2       0.60      0.44      0.51       710\n",
      "           3       0.81      0.54      0.65       309\n",
      "           4       0.84      0.23      0.36       140\n",
      "\n",
      "   micro avg       0.88      0.88      0.88      9996\n",
      "   macro avg       0.81      0.62      0.67      9996\n",
      "weighted avg       0.88      0.88      0.87      9996\n",
      "\n",
      "0.8825530212084834\n"
     ]
    }
   ],
   "source": [
    "cnf_matrix = testModel(XTestGender, XTestSeq, YTest, LSTMmodel)"
   ]
  },
  {
   "cell_type": "code",
   "execution_count": 83,
   "metadata": {},
   "outputs": [
    {
     "name": "stdout",
     "output_type": "stream",
     "text": [
      "Normalized confusion matrix\n"
     ]
    },
    {
     "data": {
      "image/png": "[encoded data removed]",
      "text/plain": [
       "<Figure size 432x288 with 2 Axes>"
      ]
     },
     "metadata": {
      "needs_background": "light"
     },
     "output_type": "display_data"
    }
   ],
   "source": [
    "# Compute confusion matrix\n",
    "\n",
    "np.set_printoptions(precision=2)\n",
    "class_names = UsedClass\n",
    "# Plot normalized confusion matrix\n",
    "plt.figure()\n",
    "plot_confusion_matrix(cnf_matrix, classes=class_names, normalize=True,\n",
    "                      title='Normalized confusion matrix')\n",
    "\n",
    "plt.show()"
   ]
  },
  {
   "cell_type": "code",
   "execution_count": null,
   "metadata": {},
   "outputs": [],
   "source": []
  },
  {
   "cell_type": "code",
   "execution_count": 31,
   "metadata": {},
   "outputs": [],
   "source": [
    "# checkpoint_path = 'checkpoint/LSTM/checkpoint.pth.tar'\n",
    "# checkpoint = torch.load(checkpoint_path, map_location=LSTMmodel.device)\n",
    "# LSTMmodel.load_state_dict(checkpoint['Net'])"
   ]
  }
 ],
 "metadata": {
  "kernelspec": {
   "display_name": "Python 3",
   "language": "python",
   "name": "python3"
  },
  "language_info": {
   "codemirror_mode": {
    "name": "ipython",
    "version": 3
   },
   "file_extension": ".py",
   "mimetype": "text/x-python",
   "name": "python",
   "nbconvert_exporter": "python",
   "pygments_lexer": "ipython3",
   "version": "3.7.4"
  }
 },
 "nbformat": 4,
 "nbformat_minor": 2
}
